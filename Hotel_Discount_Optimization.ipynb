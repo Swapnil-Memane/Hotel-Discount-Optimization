{
  "cells": [
    {
      "cell_type": "code",
      "execution_count": 1,
      "metadata": {
        "id": "sIOvY8wEKA6d"
      },
      "outputs": [],
      "source": [
        "import pandas as pd\n",
        "import numpy as np\n",
        "import matplotlib.pyplot as plt\n",
        "import seaborn as sns\n",
        "from sklearn.cluster import KMeans\n",
        "from sklearn.metrics import silhouette_score, root_mean_squared_error, r2_score"
      ]
    },
    {
      "cell_type": "code",
      "execution_count": 2,
      "metadata": {
        "colab": {
          "base_uri": "https://localhost:8080/",
          "height": 466
        },
        "id": "gIWOTsmQoNXb",
        "outputId": "c018e7e6-7d65-47de-9d3c-79f27c2dba7c"
      },
      "outputs": [
        {
          "data": {
            "text/html": [
              "<div>\n",
              "<style scoped>\n",
              "    .dataframe tbody tr th:only-of-type {\n",
              "        vertical-align: middle;\n",
              "    }\n",
              "\n",
              "    .dataframe tbody tr th {\n",
              "        vertical-align: top;\n",
              "    }\n",
              "\n",
              "    .dataframe thead th {\n",
              "        text-align: right;\n",
              "    }\n",
              "</style>\n",
              "<table border=\"1\" class=\"dataframe\">\n",
              "  <thead>\n",
              "    <tr style=\"text-align: right;\">\n",
              "      <th></th>\n",
              "      <th>Snapshot ID</th>\n",
              "      <th>Snapshot Date</th>\n",
              "      <th>Checkin Date</th>\n",
              "      <th>Days</th>\n",
              "      <th>Original Price</th>\n",
              "      <th>Discount Price</th>\n",
              "      <th>Discount Code</th>\n",
              "      <th>Available Rooms</th>\n",
              "      <th>Hotel Name</th>\n",
              "      <th>Hotel Stars</th>\n",
              "    </tr>\n",
              "  </thead>\n",
              "  <tbody>\n",
              "    <tr>\n",
              "      <th>0</th>\n",
              "      <td>1</td>\n",
              "      <td>7/17/2015 0:00</td>\n",
              "      <td>8/12/2015 0:00</td>\n",
              "      <td>5</td>\n",
              "      <td>1178</td>\n",
              "      <td>1040</td>\n",
              "      <td>1</td>\n",
              "      <td>6</td>\n",
              "      <td>Best Western Plus Seaport Inn Downtown</td>\n",
              "      <td>3</td>\n",
              "    </tr>\n",
              "    <tr>\n",
              "      <th>1</th>\n",
              "      <td>1</td>\n",
              "      <td>7/17/2015 0:00</td>\n",
              "      <td>8/19/2015 0:00</td>\n",
              "      <td>5</td>\n",
              "      <td>1113</td>\n",
              "      <td>982</td>\n",
              "      <td>1</td>\n",
              "      <td>8</td>\n",
              "      <td>Best Western Plus Seaport Inn Downtown</td>\n",
              "      <td>3</td>\n",
              "    </tr>\n",
              "    <tr>\n",
              "      <th>2</th>\n",
              "      <td>1</td>\n",
              "      <td>7/17/2015 0:00</td>\n",
              "      <td>8/13/2015 0:00</td>\n",
              "      <td>5</td>\n",
              "      <td>4370</td>\n",
              "      <td>4240</td>\n",
              "      <td>1</td>\n",
              "      <td>3</td>\n",
              "      <td>The Peninsula New York</td>\n",
              "      <td>5</td>\n",
              "    </tr>\n",
              "    <tr>\n",
              "      <th>3</th>\n",
              "      <td>1</td>\n",
              "      <td>7/17/2015 0:00</td>\n",
              "      <td>7/26/2015 0:00</td>\n",
              "      <td>5</td>\n",
              "      <td>1739</td>\n",
              "      <td>1667</td>\n",
              "      <td>1</td>\n",
              "      <td>18</td>\n",
              "      <td>Eventi Hotel a Kimpton Hotel</td>\n",
              "      <td>4</td>\n",
              "    </tr>\n",
              "    <tr>\n",
              "      <th>4</th>\n",
              "      <td>1</td>\n",
              "      <td>7/17/2015 0:00</td>\n",
              "      <td>8/12/2015 0:00</td>\n",
              "      <td>5</td>\n",
              "      <td>1739</td>\n",
              "      <td>1672</td>\n",
              "      <td>1</td>\n",
              "      <td>3</td>\n",
              "      <td>Eventi Hotel a Kimpton Hotel</td>\n",
              "      <td>4</td>\n",
              "    </tr>\n",
              "  </tbody>\n",
              "</table>\n",
              "</div>"
            ],
            "text/plain": [
              "   Snapshot ID   Snapshot Date    Checkin Date  Days  Original Price  \\\n",
              "0            1  7/17/2015 0:00  8/12/2015 0:00     5            1178   \n",
              "1            1  7/17/2015 0:00  8/19/2015 0:00     5            1113   \n",
              "2            1  7/17/2015 0:00  8/13/2015 0:00     5            4370   \n",
              "3            1  7/17/2015 0:00  7/26/2015 0:00     5            1739   \n",
              "4            1  7/17/2015 0:00  8/12/2015 0:00     5            1739   \n",
              "\n",
              "   Discount Price  Discount Code  Available Rooms  \\\n",
              "0            1040              1                6   \n",
              "1             982              1                8   \n",
              "2            4240              1                3   \n",
              "3            1667              1               18   \n",
              "4            1672              1                3   \n",
              "\n",
              "                               Hotel Name  Hotel Stars  \n",
              "0  Best Western Plus Seaport Inn Downtown            3  \n",
              "1  Best Western Plus Seaport Inn Downtown            3  \n",
              "2                  The Peninsula New York            5  \n",
              "3            Eventi Hotel a Kimpton Hotel            4  \n",
              "4            Eventi Hotel a Kimpton Hotel            4  "
            ]
          },
          "execution_count": 2,
          "metadata": {},
          "output_type": "execute_result"
        }
      ],
      "source": [
        "#Load Data\n",
        "data = pd.read_csv(\"hotels_data.csv\")\n",
        "data.head()"
      ]
    },
    {
      "cell_type": "code",
      "execution_count": 3,
      "metadata": {
        "colab": {
          "base_uri": "https://localhost:8080/"
        },
        "id": "YIwpQsPnoYfy",
        "outputId": "9889c38e-58bd-49a9-c043-3a546ea5df9c"
      },
      "outputs": [
        {
          "name": "stdout",
          "output_type": "stream",
          "text": [
            "<class 'pandas.core.frame.DataFrame'>\n",
            "RangeIndex: 187848 entries, 0 to 187847\n",
            "Data columns (total 10 columns):\n",
            " #   Column           Non-Null Count   Dtype \n",
            "---  ------           --------------   ----- \n",
            " 0   Snapshot ID      187848 non-null  int64 \n",
            " 1   Snapshot Date    187848 non-null  object\n",
            " 2   Checkin Date     187848 non-null  object\n",
            " 3   Days             187848 non-null  int64 \n",
            " 4   Original Price   187848 non-null  int64 \n",
            " 5   Discount Price   187848 non-null  int64 \n",
            " 6   Discount Code    187848 non-null  int64 \n",
            " 7   Available Rooms  187848 non-null  int64 \n",
            " 8   Hotel Name       187848 non-null  object\n",
            " 9   Hotel Stars      187848 non-null  int64 \n",
            "dtypes: int64(7), object(3)\n",
            "memory usage: 14.3+ MB\n"
          ]
        }
      ],
      "source": [
        "data.info()"
      ]
    },
    {
      "cell_type": "code",
      "execution_count": 4,
      "metadata": {
        "colab": {
          "base_uri": "https://localhost:8080/"
        },
        "id": "zAolXn1iogoy",
        "outputId": "21865422-0ad1-4024-db9d-a54c28ea1b0d"
      },
      "outputs": [
        {
          "name": "stdout",
          "output_type": "stream",
          "text": [
            "<class 'pandas.core.frame.DataFrame'>\n",
            "RangeIndex: 187848 entries, 0 to 187847\n",
            "Data columns (total 10 columns):\n",
            " #   Column           Non-Null Count   Dtype         \n",
            "---  ------           --------------   -----         \n",
            " 0   Snapshot ID      187848 non-null  int64         \n",
            " 1   Snapshot Date    187848 non-null  datetime64[ns]\n",
            " 2   Checkin Date     187848 non-null  datetime64[ns]\n",
            " 3   Days             187848 non-null  int64         \n",
            " 4   Original Price   187848 non-null  int64         \n",
            " 5   Discount Price   187848 non-null  int64         \n",
            " 6   Discount Code    187848 non-null  int64         \n",
            " 7   Available Rooms  187848 non-null  int64         \n",
            " 8   Hotel Name       187848 non-null  object        \n",
            " 9   Hotel Stars      187848 non-null  int64         \n",
            "dtypes: datetime64[ns](2), int64(7), object(1)\n",
            "memory usage: 14.3+ MB\n"
          ]
        }
      ],
      "source": [
        "#convert date columns to proper format\n",
        "data[\"Snapshot Date\"]=pd.to_datetime(data[\"Snapshot Date\"],errors=\"coerce\")\n",
        "data[\"Checkin Date\"]=pd.to_datetime(data[\"Checkin Date\"],errors=\"coerce\")\n",
        "data.info()"
      ]
    },
    {
      "cell_type": "code",
      "execution_count": 5,
      "metadata": {
        "colab": {
          "base_uri": "https://localhost:8080/"
        },
        "id": "6yuPjwPbo3wh",
        "outputId": "d23ef91d-88bc-4387-b221-30fa4edfe61c"
      },
      "outputs": [
        {
          "name": "stdout",
          "output_type": "stream",
          "text": [
            "<class 'pandas.core.frame.DataFrame'>\n",
            "RangeIndex: 187848 entries, 0 to 187847\n",
            "Data columns (total 10 columns):\n",
            " #   Column           Non-Null Count   Dtype         \n",
            "---  ------           --------------   -----         \n",
            " 0   Snapshot ID      187848 non-null  int64         \n",
            " 1   Snapshot Date    187848 non-null  datetime64[ns]\n",
            " 2   Checkin Date     187848 non-null  datetime64[ns]\n",
            " 3   Days             187848 non-null  int64         \n",
            " 4   Original Price   187848 non-null  int64         \n",
            " 5   Discount Price   187848 non-null  int64         \n",
            " 6   Discount Code    187848 non-null  int64         \n",
            " 7   Available Rooms  187848 non-null  int64         \n",
            " 8   Hotel Name       187848 non-null  object        \n",
            " 9   Hotel Stars      187848 non-null  int64         \n",
            "dtypes: datetime64[ns](2), int64(7), object(1)\n",
            "memory usage: 14.3+ MB\n"
          ]
        }
      ],
      "source": [
        "#convert numeric columns to proper format\n",
        "data[\"Original Price\"] = pd.to_numeric(data[\"Original Price\"],errors=\"coerce\")\n",
        "data[\"Discount Price\"] = pd.to_numeric(data[\"Discount Price\"],errors=\"coerce\")\n",
        "data[\"Available Rooms\"] = pd.to_numeric(data[\"Available Rooms\"],errors=\"coerce\")\n",
        "data.info()"
      ]
    },
    {
      "cell_type": "code",
      "execution_count": 6,
      "metadata": {
        "colab": {
          "base_uri": "https://localhost:8080/"
        },
        "id": "tgseA-lbp25H",
        "outputId": "3b9403f4-26bc-418a-a063-e22914b13c1d"
      },
      "outputs": [
        {
          "name": "stdout",
          "output_type": "stream",
          "text": [
            "29975\n",
            "289\n",
            "28675\n",
            "260\n"
          ]
        }
      ],
      "source": [
        "# Check for  Zero or Negative Values in Price Columns\n",
        "print(data[\"Original Price\"].max())\n",
        "print(data[\"Original Price\"].min())\n",
        "print(data[\"Discount Price\"].max())\n",
        "print(data[\"Discount Price\"].min())"
      ]
    },
    {
      "cell_type": "code",
      "execution_count": 7,
      "metadata": {
        "colab": {
          "base_uri": "https://localhost:8080/"
        },
        "id": "YJz4GmTdqNcD",
        "outputId": "9c82cedf-9a2c-49af-8a01-3e20ee21a14c"
      },
      "outputs": [
        {
          "name": "stdout",
          "output_type": "stream",
          "text": [
            "431\n",
            "-1\n",
            "101664\n",
            "86184\n"
          ]
        }
      ],
      "source": [
        "# Check for Negative Values in Available Rooms column\n",
        "print(data[\"Available Rooms\"].max())\n",
        "print(data[\"Available Rooms\"].min())\n",
        "print(len(data[data[\"Available Rooms\"]<0]))\n",
        "print(len(data[data[\"Available Rooms\"]>=0]))"
      ]
    },
    {
      "cell_type": "code",
      "execution_count": 8,
      "metadata": {
        "colab": {
          "base_uri": "https://localhost:8080/",
          "height": 466
        },
        "id": "hxQSZwq4tb_B",
        "outputId": "15dc4fc7-bddc-411c-f7dc-92bf88bba54e"
      },
      "outputs": [
        {
          "data": {
            "text/html": [
              "<div>\n",
              "<style scoped>\n",
              "    .dataframe tbody tr th:only-of-type {\n",
              "        vertical-align: middle;\n",
              "    }\n",
              "\n",
              "    .dataframe tbody tr th {\n",
              "        vertical-align: top;\n",
              "    }\n",
              "\n",
              "    .dataframe thead th {\n",
              "        text-align: right;\n",
              "    }\n",
              "</style>\n",
              "<table border=\"1\" class=\"dataframe\">\n",
              "  <thead>\n",
              "    <tr style=\"text-align: right;\">\n",
              "      <th></th>\n",
              "      <th>Snapshot ID</th>\n",
              "      <th>Snapshot Date</th>\n",
              "      <th>Checkin Date</th>\n",
              "      <th>Days</th>\n",
              "      <th>Original Price</th>\n",
              "      <th>Discount Price</th>\n",
              "      <th>Discount Code</th>\n",
              "      <th>Available Rooms</th>\n",
              "      <th>Hotel Name</th>\n",
              "      <th>Hotel Stars</th>\n",
              "    </tr>\n",
              "  </thead>\n",
              "  <tbody>\n",
              "    <tr>\n",
              "      <th>9</th>\n",
              "      <td>1</td>\n",
              "      <td>2015-07-17</td>\n",
              "      <td>2015-07-22</td>\n",
              "      <td>5</td>\n",
              "      <td>1689</td>\n",
              "      <td>1489</td>\n",
              "      <td>1</td>\n",
              "      <td>-1</td>\n",
              "      <td>Hilton New York Fashion District</td>\n",
              "      <td>4</td>\n",
              "    </tr>\n",
              "    <tr>\n",
              "      <th>10</th>\n",
              "      <td>1</td>\n",
              "      <td>2015-07-17</td>\n",
              "      <td>2015-07-30</td>\n",
              "      <td>5</td>\n",
              "      <td>2098</td>\n",
              "      <td>2003</td>\n",
              "      <td>1</td>\n",
              "      <td>-1</td>\n",
              "      <td>DoubleTree Suites by Hilton New York City - Ti...</td>\n",
              "      <td>4</td>\n",
              "    </tr>\n",
              "    <tr>\n",
              "      <th>11</th>\n",
              "      <td>1</td>\n",
              "      <td>2015-07-17</td>\n",
              "      <td>2015-07-31</td>\n",
              "      <td>5</td>\n",
              "      <td>2120</td>\n",
              "      <td>2026</td>\n",
              "      <td>1</td>\n",
              "      <td>-1</td>\n",
              "      <td>DoubleTree Suites by Hilton New York City - Ti...</td>\n",
              "      <td>4</td>\n",
              "    </tr>\n",
              "    <tr>\n",
              "      <th>12</th>\n",
              "      <td>1</td>\n",
              "      <td>2015-07-17</td>\n",
              "      <td>2015-07-26</td>\n",
              "      <td>5</td>\n",
              "      <td>1665</td>\n",
              "      <td>1595</td>\n",
              "      <td>1</td>\n",
              "      <td>-1</td>\n",
              "      <td>Hampton Inn Manhattan Soho</td>\n",
              "      <td>3</td>\n",
              "    </tr>\n",
              "    <tr>\n",
              "      <th>13</th>\n",
              "      <td>1</td>\n",
              "      <td>2015-07-17</td>\n",
              "      <td>2015-08-02</td>\n",
              "      <td>5</td>\n",
              "      <td>1665</td>\n",
              "      <td>1595</td>\n",
              "      <td>1</td>\n",
              "      <td>-1</td>\n",
              "      <td>Hampton Inn Manhattan Soho</td>\n",
              "      <td>3</td>\n",
              "    </tr>\n",
              "  </tbody>\n",
              "</table>\n",
              "</div>"
            ],
            "text/plain": [
              "    Snapshot ID Snapshot Date Checkin Date  Days  Original Price  \\\n",
              "9             1    2015-07-17   2015-07-22     5            1689   \n",
              "10            1    2015-07-17   2015-07-30     5            2098   \n",
              "11            1    2015-07-17   2015-07-31     5            2120   \n",
              "12            1    2015-07-17   2015-07-26     5            1665   \n",
              "13            1    2015-07-17   2015-08-02     5            1665   \n",
              "\n",
              "    Discount Price  Discount Code  Available Rooms  \\\n",
              "9             1489              1               -1   \n",
              "10            2003              1               -1   \n",
              "11            2026              1               -1   \n",
              "12            1595              1               -1   \n",
              "13            1595              1               -1   \n",
              "\n",
              "                                           Hotel Name  Hotel Stars  \n",
              "9                    Hilton New York Fashion District            4  \n",
              "10  DoubleTree Suites by Hilton New York City - Ti...            4  \n",
              "11  DoubleTree Suites by Hilton New York City - Ti...            4  \n",
              "12                         Hampton Inn Manhattan Soho            3  \n",
              "13                         Hampton Inn Manhattan Soho            3  "
            ]
          },
          "execution_count": 8,
          "metadata": {},
          "output_type": "execute_result"
        }
      ],
      "source": [
        "data[data[\"Available Rooms\"]<0].head()"
      ]
    },
    {
      "cell_type": "code",
      "execution_count": 9,
      "metadata": {
        "colab": {
          "base_uri": "https://localhost:8080/"
        },
        "id": "cF80EHCNrfJ4",
        "outputId": "2be5d9d3-1e31-4a5a-d4ef-3f1135674e12"
      },
      "outputs": [
        {
          "name": "stdout",
          "output_type": "stream",
          "text": [
            "0\n",
            "86184\n"
          ]
        }
      ],
      "source": [
        "#Convert Negative Available Rooms to NaN\n",
        "data.loc[data[\"Available Rooms\"]<0,\"Available Rooms\"]=np.nan\n",
        "print(len(data[data[\"Available Rooms\"]<0]))\n",
        "print(len(data[data[\"Available Rooms\"]>=0]))"
      ]
    },
    {
      "cell_type": "code",
      "execution_count": 10,
      "metadata": {
        "colab": {
          "base_uri": "https://localhost:8080/",
          "height": 466
        },
        "id": "XUsHwivytu4U",
        "outputId": "4e8ed22d-e7fa-4154-bdd6-842b98d307ea"
      },
      "outputs": [
        {
          "data": {
            "text/html": [
              "<div>\n",
              "<style scoped>\n",
              "    .dataframe tbody tr th:only-of-type {\n",
              "        vertical-align: middle;\n",
              "    }\n",
              "\n",
              "    .dataframe tbody tr th {\n",
              "        vertical-align: top;\n",
              "    }\n",
              "\n",
              "    .dataframe thead th {\n",
              "        text-align: right;\n",
              "    }\n",
              "</style>\n",
              "<table border=\"1\" class=\"dataframe\">\n",
              "  <thead>\n",
              "    <tr style=\"text-align: right;\">\n",
              "      <th></th>\n",
              "      <th>Snapshot ID</th>\n",
              "      <th>Snapshot Date</th>\n",
              "      <th>Checkin Date</th>\n",
              "      <th>Days</th>\n",
              "      <th>Original Price</th>\n",
              "      <th>Discount Price</th>\n",
              "      <th>Discount Code</th>\n",
              "      <th>Available Rooms</th>\n",
              "      <th>Hotel Name</th>\n",
              "      <th>Hotel Stars</th>\n",
              "    </tr>\n",
              "  </thead>\n",
              "  <tbody>\n",
              "    <tr>\n",
              "      <th>9</th>\n",
              "      <td>1</td>\n",
              "      <td>2015-07-17</td>\n",
              "      <td>2015-07-22</td>\n",
              "      <td>5</td>\n",
              "      <td>1689</td>\n",
              "      <td>1489</td>\n",
              "      <td>1</td>\n",
              "      <td>NaN</td>\n",
              "      <td>Hilton New York Fashion District</td>\n",
              "      <td>4</td>\n",
              "    </tr>\n",
              "    <tr>\n",
              "      <th>10</th>\n",
              "      <td>1</td>\n",
              "      <td>2015-07-17</td>\n",
              "      <td>2015-07-30</td>\n",
              "      <td>5</td>\n",
              "      <td>2098</td>\n",
              "      <td>2003</td>\n",
              "      <td>1</td>\n",
              "      <td>NaN</td>\n",
              "      <td>DoubleTree Suites by Hilton New York City - Ti...</td>\n",
              "      <td>4</td>\n",
              "    </tr>\n",
              "    <tr>\n",
              "      <th>11</th>\n",
              "      <td>1</td>\n",
              "      <td>2015-07-17</td>\n",
              "      <td>2015-07-31</td>\n",
              "      <td>5</td>\n",
              "      <td>2120</td>\n",
              "      <td>2026</td>\n",
              "      <td>1</td>\n",
              "      <td>NaN</td>\n",
              "      <td>DoubleTree Suites by Hilton New York City - Ti...</td>\n",
              "      <td>4</td>\n",
              "    </tr>\n",
              "    <tr>\n",
              "      <th>12</th>\n",
              "      <td>1</td>\n",
              "      <td>2015-07-17</td>\n",
              "      <td>2015-07-26</td>\n",
              "      <td>5</td>\n",
              "      <td>1665</td>\n",
              "      <td>1595</td>\n",
              "      <td>1</td>\n",
              "      <td>NaN</td>\n",
              "      <td>Hampton Inn Manhattan Soho</td>\n",
              "      <td>3</td>\n",
              "    </tr>\n",
              "    <tr>\n",
              "      <th>13</th>\n",
              "      <td>1</td>\n",
              "      <td>2015-07-17</td>\n",
              "      <td>2015-08-02</td>\n",
              "      <td>5</td>\n",
              "      <td>1665</td>\n",
              "      <td>1595</td>\n",
              "      <td>1</td>\n",
              "      <td>NaN</td>\n",
              "      <td>Hampton Inn Manhattan Soho</td>\n",
              "      <td>3</td>\n",
              "    </tr>\n",
              "  </tbody>\n",
              "</table>\n",
              "</div>"
            ],
            "text/plain": [
              "    Snapshot ID Snapshot Date Checkin Date  Days  Original Price  \\\n",
              "9             1    2015-07-17   2015-07-22     5            1689   \n",
              "10            1    2015-07-17   2015-07-30     5            2098   \n",
              "11            1    2015-07-17   2015-07-31     5            2120   \n",
              "12            1    2015-07-17   2015-07-26     5            1665   \n",
              "13            1    2015-07-17   2015-08-02     5            1665   \n",
              "\n",
              "    Discount Price  Discount Code  Available Rooms  \\\n",
              "9             1489              1              NaN   \n",
              "10            2003              1              NaN   \n",
              "11            2026              1              NaN   \n",
              "12            1595              1              NaN   \n",
              "13            1595              1              NaN   \n",
              "\n",
              "                                           Hotel Name  Hotel Stars  \n",
              "9                    Hilton New York Fashion District            4  \n",
              "10  DoubleTree Suites by Hilton New York City - Ti...            4  \n",
              "11  DoubleTree Suites by Hilton New York City - Ti...            4  \n",
              "12                         Hampton Inn Manhattan Soho            3  \n",
              "13                         Hampton Inn Manhattan Soho            3  "
            ]
          },
          "execution_count": 10,
          "metadata": {},
          "output_type": "execute_result"
        }
      ],
      "source": [
        "#Check\n",
        "data[data[\"Available Rooms\"].isna()].head()"
      ]
    },
    {
      "cell_type": "code",
      "execution_count": 11,
      "metadata": {
        "colab": {
          "base_uri": "https://localhost:8080/",
          "height": 556
        },
        "id": "qi4Mec0st8iu",
        "outputId": "c75bbd60-af6f-4b80-b933-e5677f02ee8f"
      },
      "outputs": [
        {
          "data": {
            "text/html": [
              "<div>\n",
              "<style scoped>\n",
              "    .dataframe tbody tr th:only-of-type {\n",
              "        vertical-align: middle;\n",
              "    }\n",
              "\n",
              "    .dataframe tbody tr th {\n",
              "        vertical-align: top;\n",
              "    }\n",
              "\n",
              "    .dataframe thead th {\n",
              "        text-align: right;\n",
              "    }\n",
              "</style>\n",
              "<table border=\"1\" class=\"dataframe\">\n",
              "  <thead>\n",
              "    <tr style=\"text-align: right;\">\n",
              "      <th></th>\n",
              "      <th>Snapshot ID</th>\n",
              "      <th>Snapshot Date</th>\n",
              "      <th>Checkin Date</th>\n",
              "      <th>Days</th>\n",
              "      <th>Original Price</th>\n",
              "      <th>Discount Price</th>\n",
              "      <th>Discount Code</th>\n",
              "      <th>Available Rooms</th>\n",
              "      <th>Hotel Name</th>\n",
              "      <th>Hotel Stars</th>\n",
              "      <th>discount_pct</th>\n",
              "      <th>lead_time_days</th>\n",
              "      <th>checkin_dow</th>\n",
              "      <th>checkin_month</th>\n",
              "    </tr>\n",
              "  </thead>\n",
              "  <tbody>\n",
              "    <tr>\n",
              "      <th>0</th>\n",
              "      <td>1</td>\n",
              "      <td>2015-07-17</td>\n",
              "      <td>2015-08-12</td>\n",
              "      <td>5</td>\n",
              "      <td>1178</td>\n",
              "      <td>1040</td>\n",
              "      <td>1</td>\n",
              "      <td>6.0</td>\n",
              "      <td>Best Western Plus Seaport Inn Downtown</td>\n",
              "      <td>3</td>\n",
              "      <td>0.117148</td>\n",
              "      <td>26</td>\n",
              "      <td>2</td>\n",
              "      <td>8</td>\n",
              "    </tr>\n",
              "    <tr>\n",
              "      <th>1</th>\n",
              "      <td>1</td>\n",
              "      <td>2015-07-17</td>\n",
              "      <td>2015-08-19</td>\n",
              "      <td>5</td>\n",
              "      <td>1113</td>\n",
              "      <td>982</td>\n",
              "      <td>1</td>\n",
              "      <td>8.0</td>\n",
              "      <td>Best Western Plus Seaport Inn Downtown</td>\n",
              "      <td>3</td>\n",
              "      <td>0.117700</td>\n",
              "      <td>33</td>\n",
              "      <td>2</td>\n",
              "      <td>8</td>\n",
              "    </tr>\n",
              "    <tr>\n",
              "      <th>2</th>\n",
              "      <td>1</td>\n",
              "      <td>2015-07-17</td>\n",
              "      <td>2015-08-13</td>\n",
              "      <td>5</td>\n",
              "      <td>4370</td>\n",
              "      <td>4240</td>\n",
              "      <td>1</td>\n",
              "      <td>3.0</td>\n",
              "      <td>The Peninsula New York</td>\n",
              "      <td>5</td>\n",
              "      <td>0.029748</td>\n",
              "      <td>27</td>\n",
              "      <td>3</td>\n",
              "      <td>8</td>\n",
              "    </tr>\n",
              "    <tr>\n",
              "      <th>3</th>\n",
              "      <td>1</td>\n",
              "      <td>2015-07-17</td>\n",
              "      <td>2015-07-26</td>\n",
              "      <td>5</td>\n",
              "      <td>1739</td>\n",
              "      <td>1667</td>\n",
              "      <td>1</td>\n",
              "      <td>18.0</td>\n",
              "      <td>Eventi Hotel a Kimpton Hotel</td>\n",
              "      <td>4</td>\n",
              "      <td>0.041403</td>\n",
              "      <td>9</td>\n",
              "      <td>6</td>\n",
              "      <td>7</td>\n",
              "    </tr>\n",
              "    <tr>\n",
              "      <th>4</th>\n",
              "      <td>1</td>\n",
              "      <td>2015-07-17</td>\n",
              "      <td>2015-08-12</td>\n",
              "      <td>5</td>\n",
              "      <td>1739</td>\n",
              "      <td>1672</td>\n",
              "      <td>1</td>\n",
              "      <td>3.0</td>\n",
              "      <td>Eventi Hotel a Kimpton Hotel</td>\n",
              "      <td>4</td>\n",
              "      <td>0.038528</td>\n",
              "      <td>26</td>\n",
              "      <td>2</td>\n",
              "      <td>8</td>\n",
              "    </tr>\n",
              "  </tbody>\n",
              "</table>\n",
              "</div>"
            ],
            "text/plain": [
              "   Snapshot ID Snapshot Date Checkin Date  Days  Original Price  \\\n",
              "0            1    2015-07-17   2015-08-12     5            1178   \n",
              "1            1    2015-07-17   2015-08-19     5            1113   \n",
              "2            1    2015-07-17   2015-08-13     5            4370   \n",
              "3            1    2015-07-17   2015-07-26     5            1739   \n",
              "4            1    2015-07-17   2015-08-12     5            1739   \n",
              "\n",
              "   Discount Price  Discount Code  Available Rooms  \\\n",
              "0            1040              1              6.0   \n",
              "1             982              1              8.0   \n",
              "2            4240              1              3.0   \n",
              "3            1667              1             18.0   \n",
              "4            1672              1              3.0   \n",
              "\n",
              "                               Hotel Name  Hotel Stars  discount_pct  \\\n",
              "0  Best Western Plus Seaport Inn Downtown            3      0.117148   \n",
              "1  Best Western Plus Seaport Inn Downtown            3      0.117700   \n",
              "2                  The Peninsula New York            5      0.029748   \n",
              "3            Eventi Hotel a Kimpton Hotel            4      0.041403   \n",
              "4            Eventi Hotel a Kimpton Hotel            4      0.038528   \n",
              "\n",
              "   lead_time_days  checkin_dow  checkin_month  \n",
              "0              26            2              8  \n",
              "1              33            2              8  \n",
              "2              27            3              8  \n",
              "3               9            6              7  \n",
              "4              26            2              8  "
            ]
          },
          "execution_count": 11,
          "metadata": {},
          "output_type": "execute_result"
        }
      ],
      "source": [
        "# Feature Engineering - Create Useful columns\n",
        "#Dicount Percentage COlumn\n",
        "data[\"discount_pct\"] = (data[\"Original Price\"]-data[\"Discount Price\"])/data[\"Original Price\"]\n",
        "data[\"discount_pct\"] = data[\"discount_pct\"].clip(0,0.9)\n",
        "\n",
        "#Lead Time in Days\n",
        "data[\"lead_time_days\"] = data[\"Checkin Date\"]-data[\"Snapshot Date\"]\n",
        "data[\"lead_time_days\"] = data[\"lead_time_days\"].dt.days\n",
        "\n",
        "# Day of the Week and Month\n",
        "data[\"checkin_dow\"] = data[\"Checkin Date\"].dt.dayofweek\n",
        "data[\"checkin_month\"] = data[\"Checkin Date\"].dt.month\n",
        "data.head()"
      ]
    },
    {
      "cell_type": "code",
      "execution_count": 12,
      "metadata": {
        "id": "mVjtPkecvGBP"
      },
      "outputs": [],
      "source": [
        "#Saving the cleaned dataset for future use\n",
        "data.to_csv(\"cleaned_hotel_discount_data.csv\",index=False)"
      ]
    },
    {
      "cell_type": "markdown",
      "metadata": {
        "id": "cFQQgk0-Dn_D"
      },
      "source": [
        "# Price Elasticity Modeling\n",
        "\n",
        "Build models to estimate the relationship between discount percentage and available rooms.\n",
        "\n",
        "Identify “sweet spots” where discounts maximize bookings without unnecessary revenue loss.\n"
      ]
    },
    {
      "cell_type": "code",
      "execution_count": 13,
      "metadata": {
        "colab": {
          "base_uri": "https://localhost:8080/",
          "height": 556
        },
        "id": "vru2a582viEl",
        "outputId": "e5331f6b-6e71-4d5f-a6f5-86d4c8ab0135"
      },
      "outputs": [
        {
          "data": {
            "text/html": [
              "<div>\n",
              "<style scoped>\n",
              "    .dataframe tbody tr th:only-of-type {\n",
              "        vertical-align: middle;\n",
              "    }\n",
              "\n",
              "    .dataframe tbody tr th {\n",
              "        vertical-align: top;\n",
              "    }\n",
              "\n",
              "    .dataframe thead th {\n",
              "        text-align: right;\n",
              "    }\n",
              "</style>\n",
              "<table border=\"1\" class=\"dataframe\">\n",
              "  <thead>\n",
              "    <tr style=\"text-align: right;\">\n",
              "      <th></th>\n",
              "      <th>Snapshot ID</th>\n",
              "      <th>Snapshot Date</th>\n",
              "      <th>Checkin Date</th>\n",
              "      <th>Days</th>\n",
              "      <th>Original Price</th>\n",
              "      <th>Discount Price</th>\n",
              "      <th>Discount Code</th>\n",
              "      <th>Available Rooms</th>\n",
              "      <th>Hotel Name</th>\n",
              "      <th>Hotel Stars</th>\n",
              "      <th>discount_pct</th>\n",
              "      <th>lead_time_days</th>\n",
              "      <th>checkin_dow</th>\n",
              "      <th>checkin_month</th>\n",
              "    </tr>\n",
              "  </thead>\n",
              "  <tbody>\n",
              "    <tr>\n",
              "      <th>0</th>\n",
              "      <td>1</td>\n",
              "      <td>2015-07-17</td>\n",
              "      <td>2015-08-12</td>\n",
              "      <td>5</td>\n",
              "      <td>1178</td>\n",
              "      <td>1040</td>\n",
              "      <td>1</td>\n",
              "      <td>6.0</td>\n",
              "      <td>Best Western Plus Seaport Inn Downtown</td>\n",
              "      <td>3</td>\n",
              "      <td>0.117148</td>\n",
              "      <td>26</td>\n",
              "      <td>2</td>\n",
              "      <td>8</td>\n",
              "    </tr>\n",
              "    <tr>\n",
              "      <th>1</th>\n",
              "      <td>1</td>\n",
              "      <td>2015-07-17</td>\n",
              "      <td>2015-08-19</td>\n",
              "      <td>5</td>\n",
              "      <td>1113</td>\n",
              "      <td>982</td>\n",
              "      <td>1</td>\n",
              "      <td>8.0</td>\n",
              "      <td>Best Western Plus Seaport Inn Downtown</td>\n",
              "      <td>3</td>\n",
              "      <td>0.117700</td>\n",
              "      <td>33</td>\n",
              "      <td>2</td>\n",
              "      <td>8</td>\n",
              "    </tr>\n",
              "    <tr>\n",
              "      <th>2</th>\n",
              "      <td>1</td>\n",
              "      <td>2015-07-17</td>\n",
              "      <td>2015-08-13</td>\n",
              "      <td>5</td>\n",
              "      <td>4370</td>\n",
              "      <td>4240</td>\n",
              "      <td>1</td>\n",
              "      <td>3.0</td>\n",
              "      <td>The Peninsula New York</td>\n",
              "      <td>5</td>\n",
              "      <td>0.029748</td>\n",
              "      <td>27</td>\n",
              "      <td>3</td>\n",
              "      <td>8</td>\n",
              "    </tr>\n",
              "    <tr>\n",
              "      <th>3</th>\n",
              "      <td>1</td>\n",
              "      <td>2015-07-17</td>\n",
              "      <td>2015-07-26</td>\n",
              "      <td>5</td>\n",
              "      <td>1739</td>\n",
              "      <td>1667</td>\n",
              "      <td>1</td>\n",
              "      <td>18.0</td>\n",
              "      <td>Eventi Hotel a Kimpton Hotel</td>\n",
              "      <td>4</td>\n",
              "      <td>0.041403</td>\n",
              "      <td>9</td>\n",
              "      <td>6</td>\n",
              "      <td>7</td>\n",
              "    </tr>\n",
              "    <tr>\n",
              "      <th>4</th>\n",
              "      <td>1</td>\n",
              "      <td>2015-07-17</td>\n",
              "      <td>2015-08-12</td>\n",
              "      <td>5</td>\n",
              "      <td>1739</td>\n",
              "      <td>1672</td>\n",
              "      <td>1</td>\n",
              "      <td>3.0</td>\n",
              "      <td>Eventi Hotel a Kimpton Hotel</td>\n",
              "      <td>4</td>\n",
              "      <td>0.038528</td>\n",
              "      <td>26</td>\n",
              "      <td>2</td>\n",
              "      <td>8</td>\n",
              "    </tr>\n",
              "  </tbody>\n",
              "</table>\n",
              "</div>"
            ],
            "text/plain": [
              "   Snapshot ID Snapshot Date Checkin Date  Days  Original Price  \\\n",
              "0            1    2015-07-17   2015-08-12     5            1178   \n",
              "1            1    2015-07-17   2015-08-19     5            1113   \n",
              "2            1    2015-07-17   2015-08-13     5            4370   \n",
              "3            1    2015-07-17   2015-07-26     5            1739   \n",
              "4            1    2015-07-17   2015-08-12     5            1739   \n",
              "\n",
              "   Discount Price  Discount Code  Available Rooms  \\\n",
              "0            1040              1              6.0   \n",
              "1             982              1              8.0   \n",
              "2            4240              1              3.0   \n",
              "3            1667              1             18.0   \n",
              "4            1672              1              3.0   \n",
              "\n",
              "                               Hotel Name  Hotel Stars  discount_pct  \\\n",
              "0  Best Western Plus Seaport Inn Downtown            3      0.117148   \n",
              "1  Best Western Plus Seaport Inn Downtown            3      0.117700   \n",
              "2                  The Peninsula New York            5      0.029748   \n",
              "3            Eventi Hotel a Kimpton Hotel            4      0.041403   \n",
              "4            Eventi Hotel a Kimpton Hotel            4      0.038528   \n",
              "\n",
              "   lead_time_days  checkin_dow  checkin_month  \n",
              "0              26            2              8  \n",
              "1              33            2              8  \n",
              "2              27            3              8  \n",
              "3               9            6              7  \n",
              "4              26            2              8  "
            ]
          },
          "execution_count": 13,
          "metadata": {},
          "output_type": "execute_result"
        }
      ],
      "source": [
        "data.head()"
      ]
    },
    {
      "cell_type": "code",
      "execution_count": 14,
      "metadata": {
        "colab": {
          "base_uri": "https://localhost:8080/",
          "height": 483
        },
        "id": "JX7CYcwmF-Rj",
        "outputId": "30cb41f1-453c-40ed-9d10-90850e3cecd4"
      },
      "outputs": [
        {
          "name": "stdout",
          "output_type": "stream",
          "text": [
            "<class 'pandas.core.frame.DataFrame'>\n",
            "Index: 86184 entries, 0 to 187846\n",
            "Data columns (total 7 columns):\n",
            " #   Column           Non-Null Count  Dtype  \n",
            "---  ------           --------------  -----  \n",
            " 0   Hotel Stars      86184 non-null  int64  \n",
            " 1   Original Price   86184 non-null  int64  \n",
            " 2   discount_pct     86184 non-null  float64\n",
            " 3   lead_time_days   86184 non-null  int64  \n",
            " 4   checkin_dow      86184 non-null  int32  \n",
            " 5   checkin_month    86184 non-null  int32  \n",
            " 6   Available Rooms  86184 non-null  float64\n",
            "dtypes: float64(2), int32(2), int64(3)\n",
            "memory usage: 4.6 MB\n"
          ]
        },
        {
          "data": {
            "text/plain": [
              "0     6.0\n",
              "1     8.0\n",
              "2     3.0\n",
              "3    18.0\n",
              "4     3.0\n",
              "Name: Available Rooms, dtype: float64"
            ]
          },
          "execution_count": 14,
          "metadata": {},
          "output_type": "execute_result"
        }
      ],
      "source": [
        "# Features = Hotel Stars, discount_pct, lead_time_days, checkin_dow, checkin_month\n",
        "# Target = Available Rooms\n",
        "Feature_cols = [\"Hotel Stars\",\"Original Price\", \"discount_pct\", \"lead_time_days\", \"checkin_dow\", \"checkin_month\"]\n",
        "model_df = data[Feature_cols+[\"Available Rooms\"]].dropna()\n",
        "model_df.info()\n",
        "X = model_df[Feature_cols]\n",
        "X.head()\n",
        "y = model_df[\"Available Rooms\"]\n",
        "y.head()"
      ]
    },
    {
      "cell_type": "code",
      "execution_count": 15,
      "metadata": {
        "id": "wnXFRovPGf66"
      },
      "outputs": [],
      "source": [
        "from sklearn.model_selection import train_test_split\n",
        "X_train, X_test, y_train, y_test = train_test_split(X, y, test_size=0.2, random_state=42)"
      ]
    },
    {
      "cell_type": "markdown",
      "metadata": {
        "id": "jWrk1dGoLKpV"
      },
      "source": [
        "# Linear Model"
      ]
    },
    {
      "cell_type": "code",
      "execution_count": 16,
      "metadata": {
        "colab": {
          "base_uri": "https://localhost:8080/",
          "height": 80
        },
        "id": "hNZ5c3tPHAAm",
        "outputId": "b65231bd-20ac-4337-f3d1-04c35c0b8562"
      },
      "outputs": [
        {
          "data": {
            "text/html": [
              "<style>#sk-container-id-1 {\n",
              "  /* Definition of color scheme common for light and dark mode */\n",
              "  --sklearn-color-text: #000;\n",
              "  --sklearn-color-text-muted: #666;\n",
              "  --sklearn-color-line: gray;\n",
              "  /* Definition of color scheme for unfitted estimators */\n",
              "  --sklearn-color-unfitted-level-0: #fff5e6;\n",
              "  --sklearn-color-unfitted-level-1: #f6e4d2;\n",
              "  --sklearn-color-unfitted-level-2: #ffe0b3;\n",
              "  --sklearn-color-unfitted-level-3: chocolate;\n",
              "  /* Definition of color scheme for fitted estimators */\n",
              "  --sklearn-color-fitted-level-0: #f0f8ff;\n",
              "  --sklearn-color-fitted-level-1: #d4ebff;\n",
              "  --sklearn-color-fitted-level-2: #b3dbfd;\n",
              "  --sklearn-color-fitted-level-3: cornflowerblue;\n",
              "\n",
              "  /* Specific color for light theme */\n",
              "  --sklearn-color-text-on-default-background: var(--sg-text-color, var(--theme-code-foreground, var(--jp-content-font-color1, black)));\n",
              "  --sklearn-color-background: var(--sg-background-color, var(--theme-background, var(--jp-layout-color0, white)));\n",
              "  --sklearn-color-border-box: var(--sg-text-color, var(--theme-code-foreground, var(--jp-content-font-color1, black)));\n",
              "  --sklearn-color-icon: #696969;\n",
              "\n",
              "  @media (prefers-color-scheme: dark) {\n",
              "    /* Redefinition of color scheme for dark theme */\n",
              "    --sklearn-color-text-on-default-background: var(--sg-text-color, var(--theme-code-foreground, var(--jp-content-font-color1, white)));\n",
              "    --sklearn-color-background: var(--sg-background-color, var(--theme-background, var(--jp-layout-color0, #111)));\n",
              "    --sklearn-color-border-box: var(--sg-text-color, var(--theme-code-foreground, var(--jp-content-font-color1, white)));\n",
              "    --sklearn-color-icon: #878787;\n",
              "  }\n",
              "}\n",
              "\n",
              "#sk-container-id-1 {\n",
              "  color: var(--sklearn-color-text);\n",
              "}\n",
              "\n",
              "#sk-container-id-1 pre {\n",
              "  padding: 0;\n",
              "}\n",
              "\n",
              "#sk-container-id-1 input.sk-hidden--visually {\n",
              "  border: 0;\n",
              "  clip: rect(1px 1px 1px 1px);\n",
              "  clip: rect(1px, 1px, 1px, 1px);\n",
              "  height: 1px;\n",
              "  margin: -1px;\n",
              "  overflow: hidden;\n",
              "  padding: 0;\n",
              "  position: absolute;\n",
              "  width: 1px;\n",
              "}\n",
              "\n",
              "#sk-container-id-1 div.sk-dashed-wrapped {\n",
              "  border: 1px dashed var(--sklearn-color-line);\n",
              "  margin: 0 0.4em 0.5em 0.4em;\n",
              "  box-sizing: border-box;\n",
              "  padding-bottom: 0.4em;\n",
              "  background-color: var(--sklearn-color-background);\n",
              "}\n",
              "\n",
              "#sk-container-id-1 div.sk-container {\n",
              "  /* jupyter's `normalize.less` sets `[hidden] { display: none; }`\n",
              "     but bootstrap.min.css set `[hidden] { display: none !important; }`\n",
              "     so we also need the `!important` here to be able to override the\n",
              "     default hidden behavior on the sphinx rendered scikit-learn.org.\n",
              "     See: https://github.com/scikit-learn/scikit-learn/issues/21755 */\n",
              "  display: inline-block !important;\n",
              "  position: relative;\n",
              "}\n",
              "\n",
              "#sk-container-id-1 div.sk-text-repr-fallback {\n",
              "  display: none;\n",
              "}\n",
              "\n",
              "div.sk-parallel-item,\n",
              "div.sk-serial,\n",
              "div.sk-item {\n",
              "  /* draw centered vertical line to link estimators */\n",
              "  background-image: linear-gradient(var(--sklearn-color-text-on-default-background), var(--sklearn-color-text-on-default-background));\n",
              "  background-size: 2px 100%;\n",
              "  background-repeat: no-repeat;\n",
              "  background-position: center center;\n",
              "}\n",
              "\n",
              "/* Parallel-specific style estimator block */\n",
              "\n",
              "#sk-container-id-1 div.sk-parallel-item::after {\n",
              "  content: \"\";\n",
              "  width: 100%;\n",
              "  border-bottom: 2px solid var(--sklearn-color-text-on-default-background);\n",
              "  flex-grow: 1;\n",
              "}\n",
              "\n",
              "#sk-container-id-1 div.sk-parallel {\n",
              "  display: flex;\n",
              "  align-items: stretch;\n",
              "  justify-content: center;\n",
              "  background-color: var(--sklearn-color-background);\n",
              "  position: relative;\n",
              "}\n",
              "\n",
              "#sk-container-id-1 div.sk-parallel-item {\n",
              "  display: flex;\n",
              "  flex-direction: column;\n",
              "}\n",
              "\n",
              "#sk-container-id-1 div.sk-parallel-item:first-child::after {\n",
              "  align-self: flex-end;\n",
              "  width: 50%;\n",
              "}\n",
              "\n",
              "#sk-container-id-1 div.sk-parallel-item:last-child::after {\n",
              "  align-self: flex-start;\n",
              "  width: 50%;\n",
              "}\n",
              "\n",
              "#sk-container-id-1 div.sk-parallel-item:only-child::after {\n",
              "  width: 0;\n",
              "}\n",
              "\n",
              "/* Serial-specific style estimator block */\n",
              "\n",
              "#sk-container-id-1 div.sk-serial {\n",
              "  display: flex;\n",
              "  flex-direction: column;\n",
              "  align-items: center;\n",
              "  background-color: var(--sklearn-color-background);\n",
              "  padding-right: 1em;\n",
              "  padding-left: 1em;\n",
              "}\n",
              "\n",
              "\n",
              "/* Toggleable style: style used for estimator/Pipeline/ColumnTransformer box that is\n",
              "clickable and can be expanded/collapsed.\n",
              "- Pipeline and ColumnTransformer use this feature and define the default style\n",
              "- Estimators will overwrite some part of the style using the `sk-estimator` class\n",
              "*/\n",
              "\n",
              "/* Pipeline and ColumnTransformer style (default) */\n",
              "\n",
              "#sk-container-id-1 div.sk-toggleable {\n",
              "  /* Default theme specific background. It is overwritten whether we have a\n",
              "  specific estimator or a Pipeline/ColumnTransformer */\n",
              "  background-color: var(--sklearn-color-background);\n",
              "}\n",
              "\n",
              "/* Toggleable label */\n",
              "#sk-container-id-1 label.sk-toggleable__label {\n",
              "  cursor: pointer;\n",
              "  display: flex;\n",
              "  width: 100%;\n",
              "  margin-bottom: 0;\n",
              "  padding: 0.5em;\n",
              "  box-sizing: border-box;\n",
              "  text-align: center;\n",
              "  align-items: start;\n",
              "  justify-content: space-between;\n",
              "  gap: 0.5em;\n",
              "}\n",
              "\n",
              "#sk-container-id-1 label.sk-toggleable__label .caption {\n",
              "  font-size: 0.6rem;\n",
              "  font-weight: lighter;\n",
              "  color: var(--sklearn-color-text-muted);\n",
              "}\n",
              "\n",
              "#sk-container-id-1 label.sk-toggleable__label-arrow:before {\n",
              "  /* Arrow on the left of the label */\n",
              "  content: \"▸\";\n",
              "  float: left;\n",
              "  margin-right: 0.25em;\n",
              "  color: var(--sklearn-color-icon);\n",
              "}\n",
              "\n",
              "#sk-container-id-1 label.sk-toggleable__label-arrow:hover:before {\n",
              "  color: var(--sklearn-color-text);\n",
              "}\n",
              "\n",
              "/* Toggleable content - dropdown */\n",
              "\n",
              "#sk-container-id-1 div.sk-toggleable__content {\n",
              "  display: none;\n",
              "  text-align: left;\n",
              "  /* unfitted */\n",
              "  background-color: var(--sklearn-color-unfitted-level-0);\n",
              "}\n",
              "\n",
              "#sk-container-id-1 div.sk-toggleable__content.fitted {\n",
              "  /* fitted */\n",
              "  background-color: var(--sklearn-color-fitted-level-0);\n",
              "}\n",
              "\n",
              "#sk-container-id-1 div.sk-toggleable__content pre {\n",
              "  margin: 0.2em;\n",
              "  border-radius: 0.25em;\n",
              "  color: var(--sklearn-color-text);\n",
              "  /* unfitted */\n",
              "  background-color: var(--sklearn-color-unfitted-level-0);\n",
              "}\n",
              "\n",
              "#sk-container-id-1 div.sk-toggleable__content.fitted pre {\n",
              "  /* unfitted */\n",
              "  background-color: var(--sklearn-color-fitted-level-0);\n",
              "}\n",
              "\n",
              "#sk-container-id-1 input.sk-toggleable__control:checked~div.sk-toggleable__content {\n",
              "  /* Expand drop-down */\n",
              "  display: block;\n",
              "  width: 100%;\n",
              "  overflow: visible;\n",
              "}\n",
              "\n",
              "#sk-container-id-1 input.sk-toggleable__control:checked~label.sk-toggleable__label-arrow:before {\n",
              "  content: \"▾\";\n",
              "}\n",
              "\n",
              "/* Pipeline/ColumnTransformer-specific style */\n",
              "\n",
              "#sk-container-id-1 div.sk-label input.sk-toggleable__control:checked~label.sk-toggleable__label {\n",
              "  color: var(--sklearn-color-text);\n",
              "  background-color: var(--sklearn-color-unfitted-level-2);\n",
              "}\n",
              "\n",
              "#sk-container-id-1 div.sk-label.fitted input.sk-toggleable__control:checked~label.sk-toggleable__label {\n",
              "  background-color: var(--sklearn-color-fitted-level-2);\n",
              "}\n",
              "\n",
              "/* Estimator-specific style */\n",
              "\n",
              "/* Colorize estimator box */\n",
              "#sk-container-id-1 div.sk-estimator input.sk-toggleable__control:checked~label.sk-toggleable__label {\n",
              "  /* unfitted */\n",
              "  background-color: var(--sklearn-color-unfitted-level-2);\n",
              "}\n",
              "\n",
              "#sk-container-id-1 div.sk-estimator.fitted input.sk-toggleable__control:checked~label.sk-toggleable__label {\n",
              "  /* fitted */\n",
              "  background-color: var(--sklearn-color-fitted-level-2);\n",
              "}\n",
              "\n",
              "#sk-container-id-1 div.sk-label label.sk-toggleable__label,\n",
              "#sk-container-id-1 div.sk-label label {\n",
              "  /* The background is the default theme color */\n",
              "  color: var(--sklearn-color-text-on-default-background);\n",
              "}\n",
              "\n",
              "/* On hover, darken the color of the background */\n",
              "#sk-container-id-1 div.sk-label:hover label.sk-toggleable__label {\n",
              "  color: var(--sklearn-color-text);\n",
              "  background-color: var(--sklearn-color-unfitted-level-2);\n",
              "}\n",
              "\n",
              "/* Label box, darken color on hover, fitted */\n",
              "#sk-container-id-1 div.sk-label.fitted:hover label.sk-toggleable__label.fitted {\n",
              "  color: var(--sklearn-color-text);\n",
              "  background-color: var(--sklearn-color-fitted-level-2);\n",
              "}\n",
              "\n",
              "/* Estimator label */\n",
              "\n",
              "#sk-container-id-1 div.sk-label label {\n",
              "  font-family: monospace;\n",
              "  font-weight: bold;\n",
              "  display: inline-block;\n",
              "  line-height: 1.2em;\n",
              "}\n",
              "\n",
              "#sk-container-id-1 div.sk-label-container {\n",
              "  text-align: center;\n",
              "}\n",
              "\n",
              "/* Estimator-specific */\n",
              "#sk-container-id-1 div.sk-estimator {\n",
              "  font-family: monospace;\n",
              "  border: 1px dotted var(--sklearn-color-border-box);\n",
              "  border-radius: 0.25em;\n",
              "  box-sizing: border-box;\n",
              "  margin-bottom: 0.5em;\n",
              "  /* unfitted */\n",
              "  background-color: var(--sklearn-color-unfitted-level-0);\n",
              "}\n",
              "\n",
              "#sk-container-id-1 div.sk-estimator.fitted {\n",
              "  /* fitted */\n",
              "  background-color: var(--sklearn-color-fitted-level-0);\n",
              "}\n",
              "\n",
              "/* on hover */\n",
              "#sk-container-id-1 div.sk-estimator:hover {\n",
              "  /* unfitted */\n",
              "  background-color: var(--sklearn-color-unfitted-level-2);\n",
              "}\n",
              "\n",
              "#sk-container-id-1 div.sk-estimator.fitted:hover {\n",
              "  /* fitted */\n",
              "  background-color: var(--sklearn-color-fitted-level-2);\n",
              "}\n",
              "\n",
              "/* Specification for estimator info (e.g. \"i\" and \"?\") */\n",
              "\n",
              "/* Common style for \"i\" and \"?\" */\n",
              "\n",
              ".sk-estimator-doc-link,\n",
              "a:link.sk-estimator-doc-link,\n",
              "a:visited.sk-estimator-doc-link {\n",
              "  float: right;\n",
              "  font-size: smaller;\n",
              "  line-height: 1em;\n",
              "  font-family: monospace;\n",
              "  background-color: var(--sklearn-color-background);\n",
              "  border-radius: 1em;\n",
              "  height: 1em;\n",
              "  width: 1em;\n",
              "  text-decoration: none !important;\n",
              "  margin-left: 0.5em;\n",
              "  text-align: center;\n",
              "  /* unfitted */\n",
              "  border: var(--sklearn-color-unfitted-level-1) 1pt solid;\n",
              "  color: var(--sklearn-color-unfitted-level-1);\n",
              "}\n",
              "\n",
              ".sk-estimator-doc-link.fitted,\n",
              "a:link.sk-estimator-doc-link.fitted,\n",
              "a:visited.sk-estimator-doc-link.fitted {\n",
              "  /* fitted */\n",
              "  border: var(--sklearn-color-fitted-level-1) 1pt solid;\n",
              "  color: var(--sklearn-color-fitted-level-1);\n",
              "}\n",
              "\n",
              "/* On hover */\n",
              "div.sk-estimator:hover .sk-estimator-doc-link:hover,\n",
              ".sk-estimator-doc-link:hover,\n",
              "div.sk-label-container:hover .sk-estimator-doc-link:hover,\n",
              ".sk-estimator-doc-link:hover {\n",
              "  /* unfitted */\n",
              "  background-color: var(--sklearn-color-unfitted-level-3);\n",
              "  color: var(--sklearn-color-background);\n",
              "  text-decoration: none;\n",
              "}\n",
              "\n",
              "div.sk-estimator.fitted:hover .sk-estimator-doc-link.fitted:hover,\n",
              ".sk-estimator-doc-link.fitted:hover,\n",
              "div.sk-label-container:hover .sk-estimator-doc-link.fitted:hover,\n",
              ".sk-estimator-doc-link.fitted:hover {\n",
              "  /* fitted */\n",
              "  background-color: var(--sklearn-color-fitted-level-3);\n",
              "  color: var(--sklearn-color-background);\n",
              "  text-decoration: none;\n",
              "}\n",
              "\n",
              "/* Span, style for the box shown on hovering the info icon */\n",
              ".sk-estimator-doc-link span {\n",
              "  display: none;\n",
              "  z-index: 9999;\n",
              "  position: relative;\n",
              "  font-weight: normal;\n",
              "  right: .2ex;\n",
              "  padding: .5ex;\n",
              "  margin: .5ex;\n",
              "  width: min-content;\n",
              "  min-width: 20ex;\n",
              "  max-width: 50ex;\n",
              "  color: var(--sklearn-color-text);\n",
              "  box-shadow: 2pt 2pt 4pt #999;\n",
              "  /* unfitted */\n",
              "  background: var(--sklearn-color-unfitted-level-0);\n",
              "  border: .5pt solid var(--sklearn-color-unfitted-level-3);\n",
              "}\n",
              "\n",
              ".sk-estimator-doc-link.fitted span {\n",
              "  /* fitted */\n",
              "  background: var(--sklearn-color-fitted-level-0);\n",
              "  border: var(--sklearn-color-fitted-level-3);\n",
              "}\n",
              "\n",
              ".sk-estimator-doc-link:hover span {\n",
              "  display: block;\n",
              "}\n",
              "\n",
              "/* \"?\"-specific style due to the `<a>` HTML tag */\n",
              "\n",
              "#sk-container-id-1 a.estimator_doc_link {\n",
              "  float: right;\n",
              "  font-size: 1rem;\n",
              "  line-height: 1em;\n",
              "  font-family: monospace;\n",
              "  background-color: var(--sklearn-color-background);\n",
              "  border-radius: 1rem;\n",
              "  height: 1rem;\n",
              "  width: 1rem;\n",
              "  text-decoration: none;\n",
              "  /* unfitted */\n",
              "  color: var(--sklearn-color-unfitted-level-1);\n",
              "  border: var(--sklearn-color-unfitted-level-1) 1pt solid;\n",
              "}\n",
              "\n",
              "#sk-container-id-1 a.estimator_doc_link.fitted {\n",
              "  /* fitted */\n",
              "  border: var(--sklearn-color-fitted-level-1) 1pt solid;\n",
              "  color: var(--sklearn-color-fitted-level-1);\n",
              "}\n",
              "\n",
              "/* On hover */\n",
              "#sk-container-id-1 a.estimator_doc_link:hover {\n",
              "  /* unfitted */\n",
              "  background-color: var(--sklearn-color-unfitted-level-3);\n",
              "  color: var(--sklearn-color-background);\n",
              "  text-decoration: none;\n",
              "}\n",
              "\n",
              "#sk-container-id-1 a.estimator_doc_link.fitted:hover {\n",
              "  /* fitted */\n",
              "  background-color: var(--sklearn-color-fitted-level-3);\n",
              "}\n",
              "\n",
              ".estimator-table summary {\n",
              "    padding: .5rem;\n",
              "    font-family: monospace;\n",
              "    cursor: pointer;\n",
              "}\n",
              "\n",
              ".estimator-table details[open] {\n",
              "    padding-left: 0.1rem;\n",
              "    padding-right: 0.1rem;\n",
              "    padding-bottom: 0.3rem;\n",
              "}\n",
              "\n",
              ".estimator-table .parameters-table {\n",
              "    margin-left: auto !important;\n",
              "    margin-right: auto !important;\n",
              "}\n",
              "\n",
              ".estimator-table .parameters-table tr:nth-child(odd) {\n",
              "    background-color: #fff;\n",
              "}\n",
              "\n",
              ".estimator-table .parameters-table tr:nth-child(even) {\n",
              "    background-color: #f6f6f6;\n",
              "}\n",
              "\n",
              ".estimator-table .parameters-table tr:hover {\n",
              "    background-color: #e0e0e0;\n",
              "}\n",
              "\n",
              ".estimator-table table td {\n",
              "    border: 1px solid rgba(106, 105, 104, 0.232);\n",
              "}\n",
              "\n",
              ".user-set td {\n",
              "    color:rgb(255, 94, 0);\n",
              "    text-align: left;\n",
              "}\n",
              "\n",
              ".user-set td.value pre {\n",
              "    color:rgb(255, 94, 0) !important;\n",
              "    background-color: transparent !important;\n",
              "}\n",
              "\n",
              ".default td {\n",
              "    color: black;\n",
              "    text-align: left;\n",
              "}\n",
              "\n",
              ".user-set td i,\n",
              ".default td i {\n",
              "    color: black;\n",
              "}\n",
              "\n",
              ".copy-paste-icon {\n",
              "    background-image: url(data:image/svg+xml;base64,PHN2ZyB4bWxucz0iaHR0cDovL3d3dy53My5vcmcvMjAwMC9zdmciIHZpZXdCb3g9IjAgMCA0NDggNTEyIj48IS0tIUZvbnQgQXdlc29tZSBGcmVlIDYuNy4yIGJ5IEBmb250YXdlc29tZSAtIGh0dHBzOi8vZm9udGF3ZXNvbWUuY29tIExpY2Vuc2UgLSBodHRwczovL2ZvbnRhd2Vzb21lLmNvbS9saWNlbnNlL2ZyZWUgQ29weXJpZ2h0IDIwMjUgRm9udGljb25zLCBJbmMuLS0+PHBhdGggZD0iTTIwOCAwTDMzMi4xIDBjMTIuNyAwIDI0LjkgNS4xIDMzLjkgMTQuMWw2Ny45IDY3LjljOSA5IDE0LjEgMjEuMiAxNC4xIDMzLjlMNDQ4IDMzNmMwIDI2LjUtMjEuNSA0OC00OCA0OGwtMTkyIDBjLTI2LjUgMC00OC0yMS41LTQ4LTQ4bDAtMjg4YzAtMjYuNSAyMS41LTQ4IDQ4LTQ4ek00OCAxMjhsODAgMCAwIDY0LTY0IDAgMCAyNTYgMTkyIDAgMC0zMiA2NCAwIDAgNDhjMCAyNi41LTIxLjUgNDgtNDggNDhMNDggNTEyYy0yNi41IDAtNDgtMjEuNS00OC00OEwwIDE3NmMwLTI2LjUgMjEuNS00OCA0OC00OHoiLz48L3N2Zz4=);\n",
              "    background-repeat: no-repeat;\n",
              "    background-size: 14px 14px;\n",
              "    background-position: 0;\n",
              "    display: inline-block;\n",
              "    width: 14px;\n",
              "    height: 14px;\n",
              "    cursor: pointer;\n",
              "}\n",
              "</style><body><div id=\"sk-container-id-1\" class=\"sk-top-container\"><div class=\"sk-text-repr-fallback\"><pre>LinearRegression()</pre><b>In a Jupyter environment, please rerun this cell to show the HTML representation or trust the notebook. <br />On GitHub, the HTML representation is unable to render, please try loading this page with nbviewer.org.</b></div><div class=\"sk-container\" hidden><div class=\"sk-item\"><div class=\"sk-estimator fitted sk-toggleable\"><input class=\"sk-toggleable__control sk-hidden--visually\" id=\"sk-estimator-id-1\" type=\"checkbox\" checked><label for=\"sk-estimator-id-1\" class=\"sk-toggleable__label fitted sk-toggleable__label-arrow\"><div><div>LinearRegression</div></div><div><a class=\"sk-estimator-doc-link fitted\" rel=\"noreferrer\" target=\"_blank\" href=\"https://scikit-learn.org/1.7/modules/generated/sklearn.linear_model.LinearRegression.html\">?<span>Documentation for LinearRegression</span></a><span class=\"sk-estimator-doc-link fitted\">i<span>Fitted</span></span></div></label><div class=\"sk-toggleable__content fitted\" data-param-prefix=\"\">\n",
              "        <div class=\"estimator-table\">\n",
              "            <details>\n",
              "                <summary>Parameters</summary>\n",
              "                <table class=\"parameters-table\">\n",
              "                  <tbody>\n",
              "                    \n",
              "        <tr class=\"default\">\n",
              "            <td><i class=\"copy-paste-icon\"\n",
              "                 onclick=\"copyToClipboard('fit_intercept',\n",
              "                          this.parentElement.nextElementSibling)\"\n",
              "            ></i></td>\n",
              "            <td class=\"param\">fit_intercept&nbsp;</td>\n",
              "            <td class=\"value\">True</td>\n",
              "        </tr>\n",
              "    \n",
              "\n",
              "        <tr class=\"default\">\n",
              "            <td><i class=\"copy-paste-icon\"\n",
              "                 onclick=\"copyToClipboard('copy_X',\n",
              "                          this.parentElement.nextElementSibling)\"\n",
              "            ></i></td>\n",
              "            <td class=\"param\">copy_X&nbsp;</td>\n",
              "            <td class=\"value\">True</td>\n",
              "        </tr>\n",
              "    \n",
              "\n",
              "        <tr class=\"default\">\n",
              "            <td><i class=\"copy-paste-icon\"\n",
              "                 onclick=\"copyToClipboard('tol',\n",
              "                          this.parentElement.nextElementSibling)\"\n",
              "            ></i></td>\n",
              "            <td class=\"param\">tol&nbsp;</td>\n",
              "            <td class=\"value\">1e-06</td>\n",
              "        </tr>\n",
              "    \n",
              "\n",
              "        <tr class=\"default\">\n",
              "            <td><i class=\"copy-paste-icon\"\n",
              "                 onclick=\"copyToClipboard('n_jobs',\n",
              "                          this.parentElement.nextElementSibling)\"\n",
              "            ></i></td>\n",
              "            <td class=\"param\">n_jobs&nbsp;</td>\n",
              "            <td class=\"value\">None</td>\n",
              "        </tr>\n",
              "    \n",
              "\n",
              "        <tr class=\"default\">\n",
              "            <td><i class=\"copy-paste-icon\"\n",
              "                 onclick=\"copyToClipboard('positive',\n",
              "                          this.parentElement.nextElementSibling)\"\n",
              "            ></i></td>\n",
              "            <td class=\"param\">positive&nbsp;</td>\n",
              "            <td class=\"value\">False</td>\n",
              "        </tr>\n",
              "    \n",
              "                  </tbody>\n",
              "                </table>\n",
              "            </details>\n",
              "        </div>\n",
              "    </div></div></div></div></div><script>function copyToClipboard(text, element) {\n",
              "    // Get the parameter prefix from the closest toggleable content\n",
              "    const toggleableContent = element.closest('.sk-toggleable__content');\n",
              "    const paramPrefix = toggleableContent ? toggleableContent.dataset.paramPrefix : '';\n",
              "    const fullParamName = paramPrefix ? `${paramPrefix}${text}` : text;\n",
              "\n",
              "    const originalStyle = element.style;\n",
              "    const computedStyle = window.getComputedStyle(element);\n",
              "    const originalWidth = computedStyle.width;\n",
              "    const originalHTML = element.innerHTML.replace('Copied!', '');\n",
              "\n",
              "    navigator.clipboard.writeText(fullParamName)\n",
              "        .then(() => {\n",
              "            element.style.width = originalWidth;\n",
              "            element.style.color = 'green';\n",
              "            element.innerHTML = \"Copied!\";\n",
              "\n",
              "            setTimeout(() => {\n",
              "                element.innerHTML = originalHTML;\n",
              "                element.style = originalStyle;\n",
              "            }, 2000);\n",
              "        })\n",
              "        .catch(err => {\n",
              "            console.error('Failed to copy:', err);\n",
              "            element.style.color = 'red';\n",
              "            element.innerHTML = \"Failed!\";\n",
              "            setTimeout(() => {\n",
              "                element.innerHTML = originalHTML;\n",
              "                element.style = originalStyle;\n",
              "            }, 2000);\n",
              "        });\n",
              "    return false;\n",
              "}\n",
              "\n",
              "document.querySelectorAll('.fa-regular.fa-copy').forEach(function(element) {\n",
              "    const toggleableContent = element.closest('.sk-toggleable__content');\n",
              "    const paramPrefix = toggleableContent ? toggleableContent.dataset.paramPrefix : '';\n",
              "    const paramName = element.parentElement.nextElementSibling.textContent.trim();\n",
              "    const fullParamName = paramPrefix ? `${paramPrefix}${paramName}` : paramName;\n",
              "\n",
              "    element.setAttribute('title', fullParamName);\n",
              "});\n",
              "</script></body>"
            ],
            "text/plain": [
              "LinearRegression()"
            ]
          },
          "execution_count": 16,
          "metadata": {},
          "output_type": "execute_result"
        }
      ],
      "source": [
        "from sklearn.linear_model import LinearRegression\n",
        "linear_model = LinearRegression()\n",
        "linear_model.fit(X_train, y_train)"
      ]
    },
    {
      "cell_type": "code",
      "execution_count": 17,
      "metadata": {
        "id": "FZa3-W-vHS4L"
      },
      "outputs": [
        {
          "name": "stdout",
          "output_type": "stream",
          "text": [
            "RMSE: 7.442965017531166\n",
            "R2 Score: 0.03792792445610382\n",
            "Accuracy: 0.03792792445610382\n"
          ]
        }
      ],
      "source": [
        "y_pred = linear_model.predict(X_test)\n",
        "print(\"RMSE:\", np.sqrt(root_mean_squared_error(y_test, y_pred)))\n",
        "print(\"R2 Score:\", r2_score(y_test, y_pred))\n",
        "print(\"Accuracy:\", linear_model.score(X_test, y_test))"
      ]
    },
    {
      "cell_type": "markdown",
      "metadata": {
        "id": "vbqlA9tyLPVo"
      },
      "source": [
        "# Polynomial Model Degree=2"
      ]
    },
    {
      "cell_type": "code",
      "execution_count": 18,
      "metadata": {
        "id": "mXq6AX25KhYj"
      },
      "outputs": [],
      "source": [
        "from sklearn.preprocessing import StandardScaler, PolynomialFeatures\n",
        "# Applying Polynomial transform on discount_pct\n",
        "poly= PolynomialFeatures(degree=2, include_bias=False)\n",
        "dp_train = poly.fit_transform(X_train[[\"discount_pct\"]])\n",
        "dp_test = poly.transform(X_test[[\"discount_pct\"]])\n",
        "\n",
        "# combining X_train and dp_train to get X_train_quad\n",
        "other_cols = X_train.drop(\"discount_pct\", axis=1)\n",
        "X_train_quad = np.hstack([dp_train,other_cols.values])\n",
        "# combining X_test and dp_test to get X_test_quad\n",
        "X_test_quad = np.hstack([dp_test,X_test.drop(\"discount_pct\", axis=1).values])\n",
        "\n",
        "lin_quad_model = LinearRegression()\n",
        "lin_quad_model.fit(X_train_quad, y_train)\n",
        "y_pred_quad = lin_quad_model.predict(X_test_quad)"
      ]
    },
    {
      "cell_type": "code",
      "execution_count": 19,
      "metadata": {
        "colab": {
          "base_uri": "https://localhost:8080/"
        },
        "id": "a07djCWYOeNY",
        "outputId": "1454c687-76e2-40f6-d7da-7c160dc56b2c"
      },
      "outputs": [
        {
          "data": {
            "text/plain": [
              "{'linear_r2': 0.03792792445610382,\n",
              " 'linear_rmse': 55.39772825219271,\n",
              " 'quadratic_r2': 0.037964991381891355,\n",
              " 'quadratic_rmse': 55.3966610539478}"
            ]
          },
          "execution_count": 19,
          "metadata": {},
          "output_type": "execute_result"
        }
      ],
      "source": [
        "# Calculate Accuracy Metrics\n",
        "from sklearn.metrics import r2_score, root_mean_squared_error\n",
        "metrics = {\n",
        "    \"linear_r2\": r2_score(y_test,y_pred),\n",
        "    \"linear_rmse\": root_mean_squared_error(y_test,y_pred),\n",
        "    \"quadratic_r2\": r2_score(y_test,y_pred_quad),\n",
        "    \"quadratic_rmse\": root_mean_squared_error(y_test,y_pred_quad)\n",
        "}\n",
        "metrics"
      ]
    },
    {
      "cell_type": "code",
      "execution_count": 20,
      "metadata": {
        "id": "5CM_yPp9agf4"
      },
      "outputs": [],
      "source": [
        "import json\n",
        "import os\n",
        "out_dir = \"hotel_discount_artifacts\"\n",
        "os.makedirs(out_dir, exist_ok=True)\n",
        "json.dump(metrics, open(os.path.join(out_dir,\"metrics_summary.json\"),\"w\"), indent=2)"
      ]
    },
    {
      "cell_type": "markdown",
      "metadata": {
        "id": "JSUcuqJycKlO"
      },
      "source": [
        "# 4) “Sweet spot” discounts by star rating\n",
        "*to correct*"
      ]
    },
    {
      "cell_type": "code",
      "execution_count": 21,
      "metadata": {
        "colab": {
          "base_uri": "https://localhost:8080/"
        },
        "collapsed": true,
        "id": "Ep25SLxXgK0v",
        "outputId": "64d8ff4c-5e55-4625-8c0f-7a28ae7895a8"
      },
      "outputs": [
        {
          "name": "stderr",
          "output_type": "stream",
          "text": [
            "C:\\Users\\Swapnil Memane\\AppData\\Local\\Temp\\ipykernel_24984\\789124223.py:7: FutureWarning: Series.__getitem__ treating keys as positions is deprecated. In a future version, integer keys will always be treated as labels (consistent with DataFrame behavior). To access a value by position, use `ser.iloc[pos]`\n",
            "  grid[other_cols] = X_test.median(numeric_only=True)[other_cols]\n",
            "C:\\Users\\Swapnil Memane\\AppData\\Local\\Temp\\ipykernel_24984\\789124223.py:7: FutureWarning: Series.__getitem__ treating keys as positions is deprecated. In a future version, integer keys will always be treated as labels (consistent with DataFrame behavior). To access a value by position, use `ser.iloc[pos]`\n",
            "  grid[other_cols] = X_test.median(numeric_only=True)[other_cols]\n",
            "C:\\Users\\Swapnil Memane\\AppData\\Local\\Temp\\ipykernel_24984\\789124223.py:7: FutureWarning: Series.__getitem__ treating keys as positions is deprecated. In a future version, integer keys will always be treated as labels (consistent with DataFrame behavior). To access a value by position, use `ser.iloc[pos]`\n",
            "  grid[other_cols] = X_test.median(numeric_only=True)[other_cols]\n",
            "C:\\Users\\Swapnil Memane\\AppData\\Local\\Temp\\ipykernel_24984\\789124223.py:7: FutureWarning: Series.__getitem__ treating keys as positions is deprecated. In a future version, integer keys will always be treated as labels (consistent with DataFrame behavior). To access a value by position, use `ser.iloc[pos]`\n",
            "  grid[other_cols] = X_test.median(numeric_only=True)[other_cols]\n",
            "C:\\Users\\Swapnil Memane\\AppData\\Local\\Temp\\ipykernel_24984\\789124223.py:7: FutureWarning: Series.__getitem__ treating keys as positions is deprecated. In a future version, integer keys will always be treated as labels (consistent with DataFrame behavior). To access a value by position, use `ser.iloc[pos]`\n",
            "  grid[other_cols] = X_test.median(numeric_only=True)[other_cols]\n",
            "C:\\Users\\Swapnil Memane\\AppData\\Local\\Temp\\ipykernel_24984\\789124223.py:7: FutureWarning: Series.__getitem__ treating keys as positions is deprecated. In a future version, integer keys will always be treated as labels (consistent with DataFrame behavior). To access a value by position, use `ser.iloc[pos]`\n",
            "  grid[other_cols] = X_test.median(numeric_only=True)[other_cols]\n",
            "C:\\Users\\Swapnil Memane\\AppData\\Local\\Temp\\ipykernel_24984\\789124223.py:7: FutureWarning: Series.__getitem__ treating keys as positions is deprecated. In a future version, integer keys will always be treated as labels (consistent with DataFrame behavior). To access a value by position, use `ser.iloc[pos]`\n",
            "  grid[other_cols] = X_test.median(numeric_only=True)[other_cols]\n",
            "C:\\Users\\Swapnil Memane\\AppData\\Local\\Temp\\ipykernel_24984\\789124223.py:7: FutureWarning: Series.__getitem__ treating keys as positions is deprecated. In a future version, integer keys will always be treated as labels (consistent with DataFrame behavior). To access a value by position, use `ser.iloc[pos]`\n",
            "  grid[other_cols] = X_test.median(numeric_only=True)[other_cols]\n",
            "C:\\Users\\Swapnil Memane\\AppData\\Local\\Temp\\ipykernel_24984\\789124223.py:7: FutureWarning: Series.__getitem__ treating keys as positions is deprecated. In a future version, integer keys will always be treated as labels (consistent with DataFrame behavior). To access a value by position, use `ser.iloc[pos]`\n",
            "  grid[other_cols] = X_test.median(numeric_only=True)[other_cols]\n",
            "C:\\Users\\Swapnil Memane\\AppData\\Local\\Temp\\ipykernel_24984\\789124223.py:7: FutureWarning: Series.__getitem__ treating keys as positions is deprecated. In a future version, integer keys will always be treated as labels (consistent with DataFrame behavior). To access a value by position, use `ser.iloc[pos]`\n",
            "  grid[other_cols] = X_test.median(numeric_only=True)[other_cols]\n",
            "C:\\Users\\Swapnil Memane\\AppData\\Local\\Temp\\ipykernel_24984\\789124223.py:7: FutureWarning: Series.__getitem__ treating keys as positions is deprecated. In a future version, integer keys will always be treated as labels (consistent with DataFrame behavior). To access a value by position, use `ser.iloc[pos]`\n",
            "  grid[other_cols] = X_test.median(numeric_only=True)[other_cols]\n",
            "C:\\Users\\Swapnil Memane\\AppData\\Local\\Temp\\ipykernel_24984\\789124223.py:7: FutureWarning: Series.__getitem__ treating keys as positions is deprecated. In a future version, integer keys will always be treated as labels (consistent with DataFrame behavior). To access a value by position, use `ser.iloc[pos]`\n",
            "  grid[other_cols] = X_test.median(numeric_only=True)[other_cols]\n",
            "C:\\Users\\Swapnil Memane\\AppData\\Local\\Temp\\ipykernel_24984\\789124223.py:7: FutureWarning: Series.__getitem__ treating keys as positions is deprecated. In a future version, integer keys will always be treated as labels (consistent with DataFrame behavior). To access a value by position, use `ser.iloc[pos]`\n",
            "  grid[other_cols] = X_test.median(numeric_only=True)[other_cols]\n",
            "C:\\Users\\Swapnil Memane\\AppData\\Local\\Temp\\ipykernel_24984\\789124223.py:7: FutureWarning: Series.__getitem__ treating keys as positions is deprecated. In a future version, integer keys will always be treated as labels (consistent with DataFrame behavior). To access a value by position, use `ser.iloc[pos]`\n",
            "  grid[other_cols] = X_test.median(numeric_only=True)[other_cols]\n",
            "C:\\Users\\Swapnil Memane\\AppData\\Local\\Temp\\ipykernel_24984\\789124223.py:7: FutureWarning: Series.__getitem__ treating keys as positions is deprecated. In a future version, integer keys will always be treated as labels (consistent with DataFrame behavior). To access a value by position, use `ser.iloc[pos]`\n",
            "  grid[other_cols] = X_test.median(numeric_only=True)[other_cols]\n",
            "C:\\Users\\Swapnil Memane\\AppData\\Local\\Temp\\ipykernel_24984\\789124223.py:7: FutureWarning: Series.__getitem__ treating keys as positions is deprecated. In a future version, integer keys will always be treated as labels (consistent with DataFrame behavior). To access a value by position, use `ser.iloc[pos]`\n",
            "  grid[other_cols] = X_test.median(numeric_only=True)[other_cols]\n",
            "C:\\Users\\Swapnil Memane\\AppData\\Local\\Temp\\ipykernel_24984\\789124223.py:7: FutureWarning: Series.__getitem__ treating keys as positions is deprecated. In a future version, integer keys will always be treated as labels (consistent with DataFrame behavior). To access a value by position, use `ser.iloc[pos]`\n",
            "  grid[other_cols] = X_test.median(numeric_only=True)[other_cols]\n",
            "C:\\Users\\Swapnil Memane\\AppData\\Local\\Temp\\ipykernel_24984\\789124223.py:7: FutureWarning: Series.__getitem__ treating keys as positions is deprecated. In a future version, integer keys will always be treated as labels (consistent with DataFrame behavior). To access a value by position, use `ser.iloc[pos]`\n",
            "  grid[other_cols] = X_test.median(numeric_only=True)[other_cols]\n",
            "C:\\Users\\Swapnil Memane\\AppData\\Local\\Temp\\ipykernel_24984\\789124223.py:7: FutureWarning: Series.__getitem__ treating keys as positions is deprecated. In a future version, integer keys will always be treated as labels (consistent with DataFrame behavior). To access a value by position, use `ser.iloc[pos]`\n",
            "  grid[other_cols] = X_test.median(numeric_only=True)[other_cols]\n",
            "C:\\Users\\Swapnil Memane\\AppData\\Local\\Temp\\ipykernel_24984\\789124223.py:7: FutureWarning: Series.__getitem__ treating keys as positions is deprecated. In a future version, integer keys will always be treated as labels (consistent with DataFrame behavior). To access a value by position, use `ser.iloc[pos]`\n",
            "  grid[other_cols] = X_test.median(numeric_only=True)[other_cols]\n",
            "C:\\Users\\Swapnil Memane\\AppData\\Local\\Temp\\ipykernel_24984\\789124223.py:7: FutureWarning: Series.__getitem__ treating keys as positions is deprecated. In a future version, integer keys will always be treated as labels (consistent with DataFrame behavior). To access a value by position, use `ser.iloc[pos]`\n",
            "  grid[other_cols] = X_test.median(numeric_only=True)[other_cols]\n",
            "C:\\Users\\Swapnil Memane\\AppData\\Local\\Temp\\ipykernel_24984\\789124223.py:7: FutureWarning: Series.__getitem__ treating keys as positions is deprecated. In a future version, integer keys will always be treated as labels (consistent with DataFrame behavior). To access a value by position, use `ser.iloc[pos]`\n",
            "  grid[other_cols] = X_test.median(numeric_only=True)[other_cols]\n",
            "C:\\Users\\Swapnil Memane\\AppData\\Local\\Temp\\ipykernel_24984\\789124223.py:7: FutureWarning: Series.__getitem__ treating keys as positions is deprecated. In a future version, integer keys will always be treated as labels (consistent with DataFrame behavior). To access a value by position, use `ser.iloc[pos]`\n",
            "  grid[other_cols] = X_test.median(numeric_only=True)[other_cols]\n",
            "C:\\Users\\Swapnil Memane\\AppData\\Local\\Temp\\ipykernel_24984\\789124223.py:7: FutureWarning: Series.__getitem__ treating keys as positions is deprecated. In a future version, integer keys will always be treated as labels (consistent with DataFrame behavior). To access a value by position, use `ser.iloc[pos]`\n",
            "  grid[other_cols] = X_test.median(numeric_only=True)[other_cols]\n",
            "C:\\Users\\Swapnil Memane\\AppData\\Local\\Temp\\ipykernel_24984\\789124223.py:7: FutureWarning: Series.__getitem__ treating keys as positions is deprecated. In a future version, integer keys will always be treated as labels (consistent with DataFrame behavior). To access a value by position, use `ser.iloc[pos]`\n",
            "  grid[other_cols] = X_test.median(numeric_only=True)[other_cols]\n",
            "C:\\Users\\Swapnil Memane\\AppData\\Local\\Temp\\ipykernel_24984\\789124223.py:7: FutureWarning: Series.__getitem__ treating keys as positions is deprecated. In a future version, integer keys will always be treated as labels (consistent with DataFrame behavior). To access a value by position, use `ser.iloc[pos]`\n",
            "  grid[other_cols] = X_test.median(numeric_only=True)[other_cols]\n",
            "C:\\Users\\Swapnil Memane\\AppData\\Local\\Temp\\ipykernel_24984\\789124223.py:7: FutureWarning: Series.__getitem__ treating keys as positions is deprecated. In a future version, integer keys will always be treated as labels (consistent with DataFrame behavior). To access a value by position, use `ser.iloc[pos]`\n",
            "  grid[other_cols] = X_test.median(numeric_only=True)[other_cols]\n",
            "C:\\Users\\Swapnil Memane\\AppData\\Local\\Temp\\ipykernel_24984\\789124223.py:7: FutureWarning: Series.__getitem__ treating keys as positions is deprecated. In a future version, integer keys will always be treated as labels (consistent with DataFrame behavior). To access a value by position, use `ser.iloc[pos]`\n",
            "  grid[other_cols] = X_test.median(numeric_only=True)[other_cols]\n",
            "C:\\Users\\Swapnil Memane\\AppData\\Local\\Temp\\ipykernel_24984\\789124223.py:7: FutureWarning: Series.__getitem__ treating keys as positions is deprecated. In a future version, integer keys will always be treated as labels (consistent with DataFrame behavior). To access a value by position, use `ser.iloc[pos]`\n",
            "  grid[other_cols] = X_test.median(numeric_only=True)[other_cols]\n",
            "C:\\Users\\Swapnil Memane\\AppData\\Local\\Temp\\ipykernel_24984\\789124223.py:7: FutureWarning: Series.__getitem__ treating keys as positions is deprecated. In a future version, integer keys will always be treated as labels (consistent with DataFrame behavior). To access a value by position, use `ser.iloc[pos]`\n",
            "  grid[other_cols] = X_test.median(numeric_only=True)[other_cols]\n"
          ]
        }
      ],
      "source": [
        "sweet_rows = []\n",
        "other_cols = [\"Hotel Stars\",\"Original Price\", \"lead_time_days\", \"checkin_dow\", \"checkin_month\"]\n",
        "\n",
        "for star in sorted(X_test[\"Hotel Stars\"].dropna().unique()):\n",
        "    # Build grid of discounts\n",
        "    grid = pd.DataFrame({\"discount_pct\": np.linspace(0, 0.6, 61)})\n",
        "    grid[other_cols] = X_test.median(numeric_only=True)[other_cols]\n",
        "\n",
        "\n",
        "    # Predict availability\n",
        "    dp = poly.transform(grid[[\"discount_pct\"]])\n",
        "    Xg = np.hstack([dp, grid[other_cols].values])\n",
        "    grid[\"pred_avail\"] = lin_quad_model.predict(Xg)\n",
        "\n",
        "    # Sweet spot = min predicted availability\n",
        "    best = grid.loc[grid[\"pred_avail\"].idxmin(), \"discount_pct\"]\n",
        "    sweet_rows.append({\"hotel_stars\": star, \"sweet_discount_pct\": best})\n",
        "\n",
        "    # Plot & save\n",
        "    plt.plot(grid[\"discount_pct\"], grid[\"pred_avail\"])\n",
        "    plt.title(f\"Elasticity Curve – {int(star)}★\")\n",
        "    plt.xlabel(\"Discount %\")\n",
        "    plt.ylabel(\"Predicted Available Rooms\")\n",
        "    plt.savefig(os.path.join(out_dir, f\"elasticity_curve_{int(star)}star.png\"))\n",
        "    plt.close()\n",
        "\n",
        "# Save summary CSV\n",
        "pd.DataFrame(sweet_rows).to_csv(\n",
        "    os.path.join(out_dir, \"sweet_spots_by_star.csv\"), index=False\n",
        ")\n"
      ]
    },
    {
      "cell_type": "markdown",
      "metadata": {
        "id": "sjDw55Vwksqb"
      },
      "source": [
        "# Discount Code Effectiveness\n"
      ]
    },
    {
      "cell_type": "code",
      "execution_count": 22,
      "metadata": {
        "colab": {
          "base_uri": "https://localhost:8080/",
          "height": 472
        },
        "id": "4alwPDRMhEFl",
        "outputId": "6b72e060-e4b5-4564-ea7b-727eef50e075"
      },
      "outputs": [
        {
          "data": {
            "image/png": "[encoded data removed]",
            "text/plain": [
              "<Figure size 640x480 with 1 Axes>"
            ]
          },
          "metadata": {},
          "output_type": "display_data"
        }
      ],
      "source": [
        "df = pd.read_csv(\"cleaned_hotel_discount_data.csv\")\n",
        "df.head()\n",
        "\n",
        "dc_eff = df.groupby(\"Discount Code\").agg({\"Available Rooms\": \"sum\"}).reset_index()\n",
        "dc_eff.head()\n",
        "\n",
        "sns.barplot(x=dc_eff[\"Discount Code\"],y=dc_eff[\"Available Rooms\"], data= dc_eff)\n",
        "plt.xlabel(\"Discount Code\")\n",
        "plt.ylabel(\"Median Available Rooms\")\n",
        "plt.title(\"Discount Code Effectiveness\")\n",
        "plt.show()"
      ]
    },
    {
      "cell_type": "markdown",
      "metadata": {
        "id": "K6-UsYFAdwdW"
      },
      "source": [
        "# Discount Code Effectiveness"
      ]
    },
    {
      "cell_type": "code",
      "execution_count": 23,
      "metadata": {
        "id": "sJcH6vZid8-g"
      },
      "outputs": [],
      "source": [
        "eff = df\n",
        "eff[\"rooms_z_within_star\"] = eff.groupby(\"Hotel Stars\")[\"Available Rooms\"].transform(\n",
        "    lambda s: (s-s.mean())/s.std(ddof=0) if s.std(ddof=0)!=0 else 0)\n",
        "eff.head()\n",
        "result = eff.groupby(\"Discount Code\").agg(n=(\"Available Rooms\",\"size\"),\n",
        "         median_discount_pct=(\"discount_pct\",\"median\"),\n",
        "         median_lead_time=(\"lead_time_days\",\"median\"),\n",
        "         median_avail=(\"Available Rooms\",\"median\"),\n",
        "         median_z=(\"rooms_z_within_star\",\"median\")).reset_index()\n",
        "result.head()\n",
        "\n",
        "result.to_csv(\"discount_code_effectiveness.csv\", index=False)"
      ]
    },
    {
      "cell_type": "markdown",
      "metadata": {
        "id": "ks_KyE_7j5jv"
      },
      "source": [
        "## 5. Clustering Hotels"
      ]
    },
    {
      "cell_type": "code",
      "execution_count": 24,
      "metadata": {
        "colab": {
          "base_uri": "https://localhost:8080/"
        },
        "id": "kcYE4bv_eGEo",
        "outputId": "7ed70cc1-8d3e-4fd6-a06a-19b46e83d904"
      },
      "outputs": [
        {
          "name": "stdout",
          "output_type": "stream",
          "text": [
            "<class 'pandas.core.frame.DataFrame'>\n",
            "RangeIndex: 554 entries, 0 to 553\n",
            "Data columns (total 5 columns):\n",
            " #   Column               Non-Null Count  Dtype  \n",
            "---  ------               --------------  -----  \n",
            " 0   Hotel Name           554 non-null    object \n",
            " 1   avg_original_price   554 non-null    float64\n",
            " 2   avg_discount_pct     554 non-null    float64\n",
            " 3   avg_available_rooms  408 non-null    float64\n",
            " 4   median_stars         554 non-null    int64  \n",
            "dtypes: float64(3), int64(1), object(1)\n",
            "memory usage: 21.8+ KB\n"
          ]
        }
      ],
      "source": [
        "cluster_cols = [\"Hotel Name\",\"Hotel Stars\",\"Original Price\", \"discount_pct\",\"Available Rooms\"]\n",
        "\n",
        "cluster_df = df.groupby(\"Hotel Name\").agg(avg_original_price=(\"Original Price\",\"mean\"),\n",
        "                                          avg_discount_pct=(\"discount_pct\",\"mean\"),\n",
        "                                          avg_available_rooms=(\"Available Rooms\",\"mean\"),\n",
        "                                          median_stars=(\"Hotel Stars\",\"first\")).reset_index()\n",
        "\n",
        "X= cluster_df.drop(\"Hotel Name\", axis=1)\n",
        "X.fillna(0, inplace=True)\n",
        "\n",
        "cluster_df.info()\n",
        "\n",
        "Xscaled = StandardScaler().fit_transform(X)\n"
      ]
    },
    {
      "cell_type": "code",
      "execution_count": 25,
      "metadata": {
        "colab": {
          "base_uri": "https://localhost:8080/"
        },
        "id": "H5lodtP_zviw",
        "outputId": "0cdaaf89-97e1-416d-be60-5e83ecda452f"
      },
      "outputs": [
        {
          "name": "stdout",
          "output_type": "stream",
          "text": [
            "3\n",
            "[0.31689508841832154, 0.3432543375991417, 0.3235096897002378, 0.33296433618752647, 0.31137914645106696, 0.3057872967197016, 0.31241385957523005, 0.3105537221964562]\n"
          ]
        }
      ],
      "source": [
        "score_list = []\n",
        "# Check if Xscaled is empty before clustering\n",
        "if Xscaled.size == 0:\n",
        "    print(\"Scaled data is empty. Cannot perform clustering.\")\n",
        "else:\n",
        "    # Reduce n_init to speed up clustering\n",
        "    best_k, best_score, best_model = 2,-1, None\n",
        "\n",
        "    for k in range(2,10):\n",
        "        km= KMeans(n_clusters=k, random_state=42, n_init=7) # Set n_init to 'auto'\n",
        "        labels= km.fit_predict(Xscaled)\n",
        "        score = silhouette_score(Xscaled, labels)\n",
        "        score_list.append(score)\n",
        "        if score > best_score:\n",
        "            best_k, best_score, best_model = k, score, km\n",
        "\n",
        "    cluster_df[\"cluster\"] = best_model.predict(Xscaled)\n",
        "\n",
        "    print(best_k)\n",
        "    print(score_list)\n",
        "\n",
        "    # You can now use cluster_df with the new 'cluster' column\n",
        "    # For example, to display the first few rows with the cluster"
      ]
    },
    {
      "cell_type": "code",
      "execution_count": 26,
      "metadata": {
        "colab": {
          "base_uri": "https://localhost:8080/",
          "height": 472
        },
        "id": "N0lfw18Kk32f",
        "outputId": "a3a574d2-77e7-4323-db87-35a18b266d7f"
      },
      "outputs": [
        {
          "data": {
            "image/png": "[encoded data removed]",
            "text/plain": [
              "<Figure size 640x480 with 1 Axes>"
            ]
          },
          "metadata": {},
          "output_type": "display_data"
        }
      ],
      "source": [
        "plt.plot(range(2,10),score_list)\n",
        "plt.xlabel(\"Number of Clusters\")\n",
        "plt.ylabel(\"Silhouette Score\")\n",
        "plt.title(\"Silhouette Score vs Number of Clusters\")\n",
        "plt.show()"
      ]
    },
    {
      "cell_type": "code",
      "execution_count": 27,
      "metadata": {
        "colab": {
          "base_uri": "https://localhost:8080/",
          "height": 143
        },
        "id": "_0Xw8HeZ3Fz8",
        "outputId": "90a51c3b-3093-479f-be7a-38c5e1bba576"
      },
      "outputs": [
        {
          "data": {
            "text/html": [
              "<div>\n",
              "<style scoped>\n",
              "    .dataframe tbody tr th:only-of-type {\n",
              "        vertical-align: middle;\n",
              "    }\n",
              "\n",
              "    .dataframe tbody tr th {\n",
              "        vertical-align: top;\n",
              "    }\n",
              "\n",
              "    .dataframe thead th {\n",
              "        text-align: right;\n",
              "    }\n",
              "</style>\n",
              "<table border=\"1\" class=\"dataframe\">\n",
              "  <thead>\n",
              "    <tr style=\"text-align: right;\">\n",
              "      <th></th>\n",
              "      <th>cluster</th>\n",
              "      <th>count</th>\n",
              "    </tr>\n",
              "  </thead>\n",
              "  <tbody>\n",
              "    <tr>\n",
              "      <th>0</th>\n",
              "      <td>0</td>\n",
              "      <td>279</td>\n",
              "    </tr>\n",
              "    <tr>\n",
              "      <th>1</th>\n",
              "      <td>1</td>\n",
              "      <td>254</td>\n",
              "    </tr>\n",
              "    <tr>\n",
              "      <th>2</th>\n",
              "      <td>2</td>\n",
              "      <td>21</td>\n",
              "    </tr>\n",
              "  </tbody>\n",
              "</table>\n",
              "</div>"
            ],
            "text/plain": [
              "   cluster  count\n",
              "0        0    279\n",
              "1        1    254\n",
              "2        2     21"
            ]
          },
          "execution_count": 27,
          "metadata": {},
          "output_type": "execute_result"
        }
      ],
      "source": [
        "cluster_df[\"cluster\"].value_counts().reset_index()"
      ]
    },
    {
      "cell_type": "code",
      "execution_count": 28,
      "metadata": {
        "colab": {
          "base_uri": "https://localhost:8080/",
          "height": 503
        },
        "id": "8oo6X78H5ErI",
        "outputId": "f0b4abc6-e115-4503-f82a-32ff51676d06"
      },
      "outputs": [
        {
          "name": "stdout",
          "output_type": "stream",
          "text": [
            "<class 'pandas.core.frame.DataFrame'>\n",
            "RangeIndex: 554 entries, 0 to 553\n",
            "Data columns (total 6 columns):\n",
            " #   Column               Non-Null Count  Dtype  \n",
            "---  ------               --------------  -----  \n",
            " 0   Hotel Name           554 non-null    object \n",
            " 1   avg_original_price   554 non-null    float64\n",
            " 2   avg_discount_pct     554 non-null    float64\n",
            " 3   avg_available_rooms  408 non-null    float64\n",
            " 4   median_stars         554 non-null    int64  \n",
            " 5   cluster              554 non-null    int32  \n",
            "dtypes: float64(3), int32(1), int64(1), object(1)\n",
            "memory usage: 23.9+ KB\n",
            "\n",
            "Cluster Feature Means:\n"
          ]
        },
        {
          "data": {
            "text/html": [
              "<div>\n",
              "<style scoped>\n",
              "    .dataframe tbody tr th:only-of-type {\n",
              "        vertical-align: middle;\n",
              "    }\n",
              "\n",
              "    .dataframe tbody tr th {\n",
              "        vertical-align: top;\n",
              "    }\n",
              "\n",
              "    .dataframe thead tr th {\n",
              "        text-align: left;\n",
              "    }\n",
              "\n",
              "    .dataframe thead tr:last-of-type th {\n",
              "        text-align: right;\n",
              "    }\n",
              "</style>\n",
              "<table border=\"1\" class=\"dataframe\">\n",
              "  <thead>\n",
              "    <tr>\n",
              "      <th></th>\n",
              "      <th colspan=\"3\" halign=\"left\">avg_original_price</th>\n",
              "      <th colspan=\"3\" halign=\"left\">avg_discount_pct</th>\n",
              "      <th colspan=\"3\" halign=\"left\">avg_available_rooms</th>\n",
              "      <th colspan=\"3\" halign=\"left\">median_stars</th>\n",
              "      <th>Hotel Name</th>\n",
              "    </tr>\n",
              "    <tr>\n",
              "      <th></th>\n",
              "      <th>mean</th>\n",
              "      <th>min</th>\n",
              "      <th>max</th>\n",
              "      <th>mean</th>\n",
              "      <th>min</th>\n",
              "      <th>max</th>\n",
              "      <th>mean</th>\n",
              "      <th>min</th>\n",
              "      <th>max</th>\n",
              "      <th>mean</th>\n",
              "      <th>min</th>\n",
              "      <th>max</th>\n",
              "      <th>count</th>\n",
              "    </tr>\n",
              "    <tr>\n",
              "      <th>cluster</th>\n",
              "      <th></th>\n",
              "      <th></th>\n",
              "      <th></th>\n",
              "      <th></th>\n",
              "      <th></th>\n",
              "      <th></th>\n",
              "      <th></th>\n",
              "      <th></th>\n",
              "      <th></th>\n",
              "      <th></th>\n",
              "      <th></th>\n",
              "      <th></th>\n",
              "      <th></th>\n",
              "    </tr>\n",
              "  </thead>\n",
              "  <tbody>\n",
              "    <tr>\n",
              "      <th>0</th>\n",
              "      <td>1000.930754</td>\n",
              "      <td>338.000000</td>\n",
              "      <td>2089.000000</td>\n",
              "      <td>0.099835</td>\n",
              "      <td>0.038785</td>\n",
              "      <td>0.279417</td>\n",
              "      <td>5.916007</td>\n",
              "      <td>1.000000</td>\n",
              "      <td>48.500000</td>\n",
              "      <td>2.763441</td>\n",
              "      <td>0</td>\n",
              "      <td>4</td>\n",
              "      <td>279</td>\n",
              "    </tr>\n",
              "    <tr>\n",
              "      <th>1</th>\n",
              "      <td>1964.556641</td>\n",
              "      <td>902.669145</td>\n",
              "      <td>5421.231884</td>\n",
              "      <td>0.069590</td>\n",
              "      <td>0.018812</td>\n",
              "      <td>0.219780</td>\n",
              "      <td>10.612057</td>\n",
              "      <td>1.000000</td>\n",
              "      <td>57.242872</td>\n",
              "      <td>4.208661</td>\n",
              "      <td>3</td>\n",
              "      <td>5</td>\n",
              "      <td>254</td>\n",
              "    </tr>\n",
              "    <tr>\n",
              "      <th>2</th>\n",
              "      <td>1623.047554</td>\n",
              "      <td>1000.750000</td>\n",
              "      <td>3225.405405</td>\n",
              "      <td>0.080146</td>\n",
              "      <td>0.044776</td>\n",
              "      <td>0.234992</td>\n",
              "      <td>113.675880</td>\n",
              "      <td>66.601266</td>\n",
              "      <td>302.334424</td>\n",
              "      <td>4.000000</td>\n",
              "      <td>3</td>\n",
              "      <td>5</td>\n",
              "      <td>21</td>\n",
              "    </tr>\n",
              "  </tbody>\n",
              "</table>\n",
              "</div>"
            ],
            "text/plain": [
              "        avg_original_price                           avg_discount_pct  \\\n",
              "                      mean          min          max             mean   \n",
              "cluster                                                                 \n",
              "0              1000.930754   338.000000  2089.000000         0.099835   \n",
              "1              1964.556641   902.669145  5421.231884         0.069590   \n",
              "2              1623.047554  1000.750000  3225.405405         0.080146   \n",
              "\n",
              "                            avg_available_rooms                         \\\n",
              "              min       max                mean        min         max   \n",
              "cluster                                                                  \n",
              "0        0.038785  0.279417            5.916007   1.000000   48.500000   \n",
              "1        0.018812  0.219780           10.612057   1.000000   57.242872   \n",
              "2        0.044776  0.234992          113.675880  66.601266  302.334424   \n",
              "\n",
              "        median_stars         Hotel Name  \n",
              "                mean min max      count  \n",
              "cluster                                  \n",
              "0           2.763441   0   4        279  \n",
              "1           4.208661   3   5        254  \n",
              "2           4.000000   3   5         21  "
            ]
          },
          "metadata": {},
          "output_type": "display_data"
        }
      ],
      "source": [
        "cluster_df.info()\n",
        "cluster_summary = cluster_df.groupby(\"cluster\").agg({\n",
        "    'avg_original_price': ['mean', 'min', 'max'],\n",
        "    'avg_discount_pct': ['mean', 'min', 'max'],\n",
        "    'avg_available_rooms' : ['mean', 'min', 'max'],\n",
        "    'median_stars': ['mean', 'min', 'max'],\n",
        "    'Hotel Name': 'count'})\n",
        "print(\"\\nCluster Feature Means:\")\n",
        "display(cluster_summary)"
      ]
    },
    {
      "cell_type": "code",
      "execution_count": 29,
      "metadata": {
        "id": "ESBUtjfs6iGl"
      },
      "outputs": [],
      "source": [
        "#Cluster Labeling\n",
        "def label(r):\n",
        "  if r[\"cluster\"] == 0:\n",
        "    return \"Cheap Hotel with Aggressive Discounts\"\n",
        "  elif r[\"cluster\"] == 1:\n",
        "    return \"Luxury Hotel with Low Discounts\"\n",
        "  else:\n",
        "    return \"Mid-Range Hotel with Aggressive Discounts\"\n",
        "\n",
        "cluster_df[\"Hotel Type\"]= cluster_df.apply(label,axis=1)"
      ]
    },
    {
      "cell_type": "code",
      "execution_count": 30,
      "metadata": {
        "colab": {
          "base_uri": "https://localhost:8080/",
          "height": 1000
        },
        "id": "AM8-pPIz9v_J",
        "outputId": "ae54e544-e038-4db8-c286-31e88b9ae096"
      },
      "outputs": [
        {
          "data": {
            "text/html": [
              "<div>\n",
              "<style scoped>\n",
              "    .dataframe tbody tr th:only-of-type {\n",
              "        vertical-align: middle;\n",
              "    }\n",
              "\n",
              "    .dataframe tbody tr th {\n",
              "        vertical-align: top;\n",
              "    }\n",
              "\n",
              "    .dataframe thead th {\n",
              "        text-align: right;\n",
              "    }\n",
              "</style>\n",
              "<table border=\"1\" class=\"dataframe\">\n",
              "  <thead>\n",
              "    <tr style=\"text-align: right;\">\n",
              "      <th></th>\n",
              "      <th>Hotel Name</th>\n",
              "      <th>avg_original_price</th>\n",
              "      <th>avg_discount_pct</th>\n",
              "      <th>avg_available_rooms</th>\n",
              "      <th>median_stars</th>\n",
              "      <th>cluster</th>\n",
              "      <th>Hotel Type</th>\n",
              "    </tr>\n",
              "  </thead>\n",
              "  <tbody>\n",
              "    <tr>\n",
              "      <th>0</th>\n",
              "      <td>1 Hotel Central Park</td>\n",
              "      <td>2201.155738</td>\n",
              "      <td>0.040586</td>\n",
              "      <td>10.762295</td>\n",
              "      <td>5</td>\n",
              "      <td>1</td>\n",
              "      <td>Luxury Hotel with Low Discounts</td>\n",
              "    </tr>\n",
              "    <tr>\n",
              "      <th>1</th>\n",
              "      <td>36 Hudson Hotel</td>\n",
              "      <td>803.500000</td>\n",
              "      <td>0.126197</td>\n",
              "      <td>5.500000</td>\n",
              "      <td>3</td>\n",
              "      <td>0</td>\n",
              "      <td>Cheap Hotel with Aggressive Discounts</td>\n",
              "    </tr>\n",
              "    <tr>\n",
              "      <th>2</th>\n",
              "      <td>6 Columbus - a SIXTY Hotel</td>\n",
              "      <td>1518.226277</td>\n",
              "      <td>0.077235</td>\n",
              "      <td>2.333333</td>\n",
              "      <td>5</td>\n",
              "      <td>1</td>\n",
              "      <td>Luxury Hotel with Low Discounts</td>\n",
              "    </tr>\n",
              "    <tr>\n",
              "      <th>3</th>\n",
              "      <td>70 Park Avenue Hotel a Kimpton Hotel</td>\n",
              "      <td>1833.279070</td>\n",
              "      <td>0.098335</td>\n",
              "      <td>4.813953</td>\n",
              "      <td>4</td>\n",
              "      <td>1</td>\n",
              "      <td>Luxury Hotel with Low Discounts</td>\n",
              "    </tr>\n",
              "    <tr>\n",
              "      <th>4</th>\n",
              "      <td>AKA Central Park</td>\n",
              "      <td>2277.750000</td>\n",
              "      <td>0.066338</td>\n",
              "      <td>19.875000</td>\n",
              "      <td>4</td>\n",
              "      <td>1</td>\n",
              "      <td>Luxury Hotel with Low Discounts</td>\n",
              "    </tr>\n",
              "    <tr>\n",
              "      <th>5</th>\n",
              "      <td>Ace Hotel New York</td>\n",
              "      <td>1970.800000</td>\n",
              "      <td>0.063581</td>\n",
              "      <td>10.266667</td>\n",
              "      <td>4</td>\n",
              "      <td>1</td>\n",
              "      <td>Luxury Hotel with Low Discounts</td>\n",
              "    </tr>\n",
              "    <tr>\n",
              "      <th>6</th>\n",
              "      <td>Airport Hotel Inn &amp; Suites - Newark Airport</td>\n",
              "      <td>338.777778</td>\n",
              "      <td>0.067102</td>\n",
              "      <td>14.000000</td>\n",
              "      <td>3</td>\n",
              "      <td>0</td>\n",
              "      <td>Cheap Hotel with Aggressive Discounts</td>\n",
              "    </tr>\n",
              "    <tr>\n",
              "      <th>7</th>\n",
              "      <td>Airway Inn at LaGuardia</td>\n",
              "      <td>1078.750000</td>\n",
              "      <td>0.130589</td>\n",
              "      <td>2.375000</td>\n",
              "      <td>2</td>\n",
              "      <td>0</td>\n",
              "      <td>Cheap Hotel with Aggressive Discounts</td>\n",
              "    </tr>\n",
              "    <tr>\n",
              "      <th>8</th>\n",
              "      <td>Aloft Harlem</td>\n",
              "      <td>1234.519048</td>\n",
              "      <td>0.091291</td>\n",
              "      <td>73.595238</td>\n",
              "      <td>4</td>\n",
              "      <td>2</td>\n",
              "      <td>Mid-Range Hotel with Aggressive Discounts</td>\n",
              "    </tr>\n",
              "    <tr>\n",
              "      <th>9</th>\n",
              "      <td>Aloft Manhattan Downtown - Financial District</td>\n",
              "      <td>1447.109375</td>\n",
              "      <td>0.078382</td>\n",
              "      <td>38.671875</td>\n",
              "      <td>3</td>\n",
              "      <td>0</td>\n",
              "      <td>Cheap Hotel with Aggressive Discounts</td>\n",
              "    </tr>\n",
              "    <tr>\n",
              "      <th>10</th>\n",
              "      <td>Aloft New York Brooklyn Hotel</td>\n",
              "      <td>1427.595238</td>\n",
              "      <td>0.071182</td>\n",
              "      <td>84.333333</td>\n",
              "      <td>3</td>\n",
              "      <td>2</td>\n",
              "      <td>Mid-Range Hotel with Aggressive Discounts</td>\n",
              "    </tr>\n",
              "    <tr>\n",
              "      <th>11</th>\n",
              "      <td>Americana Inn</td>\n",
              "      <td>1271.000000</td>\n",
              "      <td>0.051141</td>\n",
              "      <td>2.000000</td>\n",
              "      <td>2</td>\n",
              "      <td>0</td>\n",
              "      <td>Cheap Hotel with Aggressive Discounts</td>\n",
              "    </tr>\n",
              "    <tr>\n",
              "      <th>12</th>\n",
              "      <td>Ameritania at Times Square</td>\n",
              "      <td>1286.160714</td>\n",
              "      <td>0.055752</td>\n",
              "      <td>5.482143</td>\n",
              "      <td>4</td>\n",
              "      <td>1</td>\n",
              "      <td>Luxury Hotel with Low Discounts</td>\n",
              "    </tr>\n",
              "    <tr>\n",
              "      <th>13</th>\n",
              "      <td>Amsterdam Court Hotel</td>\n",
              "      <td>1069.956989</td>\n",
              "      <td>0.056143</td>\n",
              "      <td>6.967742</td>\n",
              "      <td>3</td>\n",
              "      <td>0</td>\n",
              "      <td>Cheap Hotel with Aggressive Discounts</td>\n",
              "    </tr>\n",
              "    <tr>\n",
              "      <th>14</th>\n",
              "      <td>AnYi Guesthouse Flushing</td>\n",
              "      <td>732.000000</td>\n",
              "      <td>0.220168</td>\n",
              "      <td>2.000000</td>\n",
              "      <td>3</td>\n",
              "      <td>0</td>\n",
              "      <td>Cheap Hotel with Aggressive Discounts</td>\n",
              "    </tr>\n",
              "    <tr>\n",
              "      <th>15</th>\n",
              "      <td>Anchor Inn</td>\n",
              "      <td>817.000000</td>\n",
              "      <td>0.082007</td>\n",
              "      <td>4.000000</td>\n",
              "      <td>2</td>\n",
              "      <td>0</td>\n",
              "      <td>Cheap Hotel with Aggressive Discounts</td>\n",
              "    </tr>\n",
              "    <tr>\n",
              "      <th>16</th>\n",
              "      <td>Andaz 5th Avenue - a concept by Hyatt</td>\n",
              "      <td>2403.339312</td>\n",
              "      <td>0.065302</td>\n",
              "      <td>5.599402</td>\n",
              "      <td>4</td>\n",
              "      <td>1</td>\n",
              "      <td>Luxury Hotel with Low Discounts</td>\n",
              "    </tr>\n",
              "    <tr>\n",
              "      <th>17</th>\n",
              "      <td>Andaz Wall Street - a concept by Hyatt</td>\n",
              "      <td>1812.208285</td>\n",
              "      <td>0.086219</td>\n",
              "      <td>9.729574</td>\n",
              "      <td>4</td>\n",
              "      <td>1</td>\n",
              "      <td>Luxury Hotel with Low Discounts</td>\n",
              "    </tr>\n",
              "    <tr>\n",
              "      <th>18</th>\n",
              "      <td>Archer Hotel New York</td>\n",
              "      <td>1592.075000</td>\n",
              "      <td>0.053891</td>\n",
              "      <td>9.125000</td>\n",
              "      <td>5</td>\n",
              "      <td>1</td>\n",
              "      <td>Luxury Hotel with Low Discounts</td>\n",
              "    </tr>\n",
              "    <tr>\n",
              "      <th>19</th>\n",
              "      <td>Arlington Place Bed &amp; Breakfast</td>\n",
              "      <td>1210.533333</td>\n",
              "      <td>0.117546</td>\n",
              "      <td>1.000000</td>\n",
              "      <td>4</td>\n",
              "      <td>0</td>\n",
              "      <td>Cheap Hotel with Aggressive Discounts</td>\n",
              "    </tr>\n",
              "  </tbody>\n",
              "</table>\n",
              "</div>"
            ],
            "text/plain": [
              "                                       Hotel Name  avg_original_price  \\\n",
              "0                            1 Hotel Central Park         2201.155738   \n",
              "1                                 36 Hudson Hotel          803.500000   \n",
              "2                      6 Columbus - a SIXTY Hotel         1518.226277   \n",
              "3            70 Park Avenue Hotel a Kimpton Hotel         1833.279070   \n",
              "4                                AKA Central Park         2277.750000   \n",
              "5                              Ace Hotel New York         1970.800000   \n",
              "6     Airport Hotel Inn & Suites - Newark Airport          338.777778   \n",
              "7                         Airway Inn at LaGuardia         1078.750000   \n",
              "8                                    Aloft Harlem         1234.519048   \n",
              "9   Aloft Manhattan Downtown - Financial District         1447.109375   \n",
              "10                  Aloft New York Brooklyn Hotel         1427.595238   \n",
              "11                                  Americana Inn         1271.000000   \n",
              "12                     Ameritania at Times Square         1286.160714   \n",
              "13                          Amsterdam Court Hotel         1069.956989   \n",
              "14                       AnYi Guesthouse Flushing          732.000000   \n",
              "15                                     Anchor Inn          817.000000   \n",
              "16          Andaz 5th Avenue - a concept by Hyatt         2403.339312   \n",
              "17         Andaz Wall Street - a concept by Hyatt         1812.208285   \n",
              "18                          Archer Hotel New York         1592.075000   \n",
              "19                Arlington Place Bed & Breakfast         1210.533333   \n",
              "\n",
              "    avg_discount_pct  avg_available_rooms  median_stars  cluster  \\\n",
              "0           0.040586            10.762295             5        1   \n",
              "1           0.126197             5.500000             3        0   \n",
              "2           0.077235             2.333333             5        1   \n",
              "3           0.098335             4.813953             4        1   \n",
              "4           0.066338            19.875000             4        1   \n",
              "5           0.063581            10.266667             4        1   \n",
              "6           0.067102            14.000000             3        0   \n",
              "7           0.130589             2.375000             2        0   \n",
              "8           0.091291            73.595238             4        2   \n",
              "9           0.078382            38.671875             3        0   \n",
              "10          0.071182            84.333333             3        2   \n",
              "11          0.051141             2.000000             2        0   \n",
              "12          0.055752             5.482143             4        1   \n",
              "13          0.056143             6.967742             3        0   \n",
              "14          0.220168             2.000000             3        0   \n",
              "15          0.082007             4.000000             2        0   \n",
              "16          0.065302             5.599402             4        1   \n",
              "17          0.086219             9.729574             4        1   \n",
              "18          0.053891             9.125000             5        1   \n",
              "19          0.117546             1.000000             4        0   \n",
              "\n",
              "                                   Hotel Type  \n",
              "0             Luxury Hotel with Low Discounts  \n",
              "1       Cheap Hotel with Aggressive Discounts  \n",
              "2             Luxury Hotel with Low Discounts  \n",
              "3             Luxury Hotel with Low Discounts  \n",
              "4             Luxury Hotel with Low Discounts  \n",
              "5             Luxury Hotel with Low Discounts  \n",
              "6       Cheap Hotel with Aggressive Discounts  \n",
              "7       Cheap Hotel with Aggressive Discounts  \n",
              "8   Mid-Range Hotel with Aggressive Discounts  \n",
              "9       Cheap Hotel with Aggressive Discounts  \n",
              "10  Mid-Range Hotel with Aggressive Discounts  \n",
              "11      Cheap Hotel with Aggressive Discounts  \n",
              "12            Luxury Hotel with Low Discounts  \n",
              "13      Cheap Hotel with Aggressive Discounts  \n",
              "14      Cheap Hotel with Aggressive Discounts  \n",
              "15      Cheap Hotel with Aggressive Discounts  \n",
              "16            Luxury Hotel with Low Discounts  \n",
              "17            Luxury Hotel with Low Discounts  \n",
              "18            Luxury Hotel with Low Discounts  \n",
              "19      Cheap Hotel with Aggressive Discounts  "
            ]
          },
          "execution_count": 30,
          "metadata": {},
          "output_type": "execute_result"
        }
      ],
      "source": [
        "cluster_df.head(20)"
      ]
    },
    {
      "cell_type": "markdown",
      "metadata": {
        "id": "9f2092bb"
      },
      "source": [
        "# Task\n",
        "Explore different clustering algorithms and evaluation metrics to find the best clustering model for the provided data, then visualize and interpret the results."
      ]
    },
    {
      "cell_type": "markdown",
      "metadata": {
        "id": "386f55ce"
      },
      "source": [
        "## Explore different clustering algorithms\n",
        "\n",
        "### Subtask:\n",
        "Try different clustering algorithms like DBSCAN or Agglomerative Clustering.\n"
      ]
    },
    {
      "cell_type": "markdown",
      "metadata": {
        "id": "eba4fe0b"
      },
      "source": [
        "**Reasoning**:\n",
        "Apply DBSCAN with different parameters and print the number of clusters and noise points.\n",
        "\n"
      ]
    },
    {
      "cell_type": "code",
      "execution_count": 31,
      "metadata": {
        "colab": {
          "base_uri": "https://localhost:8080/"
        },
        "id": "cc2e9c15",
        "outputId": "75a06a4c-16c4-4994-a5bb-dcd43adf4392"
      },
      "outputs": [
        {
          "name": "stdout",
          "output_type": "stream",
          "text": [
            "Number of clusters (DBSCAN): 4\n",
            "Number of noise points (DBSCAN): 124\n"
          ]
        }
      ],
      "source": [
        "from sklearn.cluster import DBSCAN\n",
        "\n",
        "# Apply DBSCAN\n",
        "dbscan = DBSCAN(eps=0.5, min_samples=5)\n",
        "dbscan_labels = dbscan.fit_predict(Xscaled)\n",
        "\n",
        "# Print the number of clusters found by DBSCAN and the number of noise points\n",
        "n_clusters_dbscan = len(set(dbscan_labels)) - (1 if -1 in dbscan_labels else 0)\n",
        "n_noise_dbscan = list(dbscan_labels).count(-1)\n",
        "\n",
        "print(f\"Number of clusters (DBSCAN): {n_clusters_dbscan}\")\n",
        "print(f\"Number of noise points (DBSCAN): {n_noise_dbscan}\")"
      ]
    },
    {
      "cell_type": "markdown",
      "metadata": {
        "id": "3c9405b0"
      },
      "source": [
        "**Reasoning**:\n",
        "Apply Agglomerative Clustering with a different number of clusters and print the cluster labels for the first few data points.\n",
        "\n"
      ]
    },
    {
      "cell_type": "code",
      "execution_count": 32,
      "metadata": {
        "colab": {
          "base_uri": "https://localhost:8080/"
        },
        "id": "ef053e01",
        "outputId": "c81edbdc-6000-45f5-e777-809953b9b596"
      },
      "outputs": [
        {
          "name": "stdout",
          "output_type": "stream",
          "text": [
            "Agglomerative Clustering labels for the first 10 data points:\n",
            "[1 0 1 1 1 1 0 0 2 1]\n"
          ]
        }
      ],
      "source": [
        "from sklearn.cluster import AgglomerativeClustering\n",
        "\n",
        "# Apply Agglomerative Clustering\n",
        "agg_clustering = AgglomerativeClustering(n_clusters=3)\n",
        "agg_labels = agg_clustering.fit_predict(Xscaled)\n",
        "\n",
        "# Print the cluster labels for the first few data points resulting from Agglomerative Clustering\n",
        "print(\"Agglomerative Clustering labels for the first 10 data points:\")\n",
        "print(agg_labels[:10])"
      ]
    },
    {
      "cell_type": "markdown",
      "metadata": {
        "id": "871ddc78"
      },
      "source": [
        "## Evaluate clustering results\n",
        "\n",
        "### Subtask:\n",
        "Use different evaluation metrics like Calinski-Harabasz index or Davies-Bouldin index to evaluate the clustering results.\n"
      ]
    },
    {
      "cell_type": "markdown",
      "metadata": {
        "id": "803631ab"
      },
      "source": [
        "**Reasoning**:\n",
        "Import the necessary evaluation metrics from scikit-learn.\n",
        "\n"
      ]
    },
    {
      "cell_type": "code",
      "execution_count": 33,
      "metadata": {
        "id": "0c5b3598"
      },
      "outputs": [],
      "source": [
        "from sklearn.metrics import calinski_harabasz_score, davies_bouldin_score"
      ]
    },
    {
      "cell_type": "markdown",
      "metadata": {
        "id": "268b5859"
      },
      "source": [
        "**Reasoning**:\n",
        "Calculate and print the Calinski-Harabasz and Davies-Bouldin scores for KMeans, DBSCAN (handling noise), and Agglomerative Clustering.\n",
        "\n"
      ]
    },
    {
      "cell_type": "code",
      "execution_count": 34,
      "metadata": {
        "colab": {
          "base_uri": "https://localhost:8080/"
        },
        "id": "c5593d5a",
        "outputId": "75a1f0c1-ccf0-4b85-d8c7-4177ff2f9207"
      },
      "outputs": [
        {
          "name": "stdout",
          "output_type": "stream",
          "text": [
            "KMeans Calinski-Harabasz Score: 233.5973235591711\n",
            "KMeans Davies-Bouldin Score: 0.995452470569477\n",
            "DBSCAN Calinski-Harabasz Score: 193.0943942043526\n",
            "DBSCAN Davies-Bouldin Score: 1.2352041365360866\n",
            "Agglomerative Clustering Calinski-Harabasz Score: 195.67044796293325\n",
            "Agglomerative Clustering Davies-Bouldin Score: 1.0908371744958725\n"
          ]
        }
      ],
      "source": [
        "# Calculate Calinski-Harabasz and Davies-Bouldin scores for KMeans\n",
        "kmeans_ch_score = calinski_harabasz_score(Xscaled, cluster_df[\"cluster\"])\n",
        "kmeans_db_score = davies_bouldin_score(Xscaled, cluster_df[\"cluster\"])\n",
        "\n",
        "# Handle noise points for DBSCAN and calculate scores\n",
        "# Filter out noise points (-1 label) for metrics that don't support them\n",
        "Xscaled_no_noise = Xscaled[dbscan_labels != -1]\n",
        "dbscan_labels_no_noise = dbscan_labels[dbscan_labels != -1]\n",
        "\n",
        "# Check if there is more than one cluster and more than one sample after removing noise\n",
        "if len(set(dbscan_labels_no_noise)) > 1 and len(Xscaled_no_noise) > 1:\n",
        "    dbscan_ch_score = calinski_harabasz_score(Xscaled_no_noise, dbscan_labels_no_noise)\n",
        "    dbscan_db_score = davies_bouldin_score(Xscaled_no_noise, dbscan_labels_no_noise)\n",
        "else:\n",
        "    dbscan_ch_score = None\n",
        "    dbscan_db_score = None\n",
        "    print(\"DBSCAN results have less than 2 clusters or samples after removing noise, skipping score calculation.\")\n",
        "\n",
        "\n",
        "# Calculate Calinski-Harabasz and Davies-Bouldin scores for Agglomerative Clustering\n",
        "agg_ch_score = calinski_harabasz_score(Xscaled, agg_labels)\n",
        "agg_db_score = davies_bouldin_score(Xscaled, agg_labels)\n",
        "\n",
        "# Print the scores\n",
        "print(f\"KMeans Calinski-Harabasz Score: {kmeans_ch_score}\")\n",
        "print(f\"KMeans Davies-Bouldin Score: {kmeans_db_score}\")\n",
        "if dbscan_ch_score is not None:\n",
        "    print(f\"DBSCAN Calinski-Harabasz Score: {dbscan_ch_score}\")\n",
        "    print(f\"DBSCAN Davies-Bouldin Score: {dbscan_db_score}\")\n",
        "print(f\"Agglomerative Clustering Calinski-Harabasz Score: {agg_ch_score}\")\n",
        "print(f\"Agglomerative Clustering Davies-Bouldin Score: {agg_db_score}\")"
      ]
    },
    {
      "cell_type": "markdown",
      "metadata": {
        "id": "759fa035"
      },
      "source": [
        "## Visualize clustering results\n",
        "\n",
        "### Subtask:\n",
        "Visualize the clustering results using techniques like PCA or t-SNE to reduce dimensionality and plot the clusters.\n"
      ]
    },
    {
      "cell_type": "markdown",
      "metadata": {
        "id": "ee83f12d"
      },
      "source": [
        "**Reasoning**:\n",
        "Visualize the clustering results using PCA to reduce dimensionality and plot the clusters, coloring by cluster labels.\n",
        "\n"
      ]
    },
    {
      "cell_type": "code",
      "execution_count": 35,
      "metadata": {
        "colab": {
          "base_uri": "https://localhost:8080/",
          "height": 690
        },
        "id": "fb20fbdc",
        "outputId": "25c68fbc-2076-4556-f2b6-afd9240cb768"
      },
      "outputs": [
        {
          "data": {
            "image/png": "[encoded data removed]",
            "text/plain": [
              "<Figure size 1000x800 with 1 Axes>"
            ]
          },
          "metadata": {},
          "output_type": "display_data"
        }
      ],
      "source": [
        "from sklearn.decomposition import PCA\n",
        "\n",
        "# Reduce dimensionality using PCA\n",
        "pca = PCA(n_components=2)\n",
        "X_pca = pca.fit_transform(Xscaled)\n",
        "\n",
        "# Create a scatter plot of the PCA-transformed data, colored by cluster labels\n",
        "plt.figure(figsize=(10, 8))\n",
        "scatter = plt.scatter(X_pca[:, 0], X_pca[:, 1], c=cluster_df[\"cluster\"], cmap=\"viridis\", s=50)\n",
        "plt.xlabel(\"Principal Component 1\")\n",
        "plt.ylabel(\"Principal Component 2\")\n",
        "plt.title(\"Hotel Clusters visualized with PCA\")\n",
        "\n",
        "# Add a legend for the clusters\n",
        "legend = plt.legend(*scatter.legend_elements(), title=\"Clusters\")\n",
        "plt.show()"
      ]
    },
    {
      "cell_type": "markdown",
      "metadata": {
        "id": "7892bee1"
      },
      "source": [
        "## Compare and select the best model\n",
        "\n",
        "### Subtask:\n",
        "Compare the results of different clustering algorithms and evaluation metrics to select the best clustering model.\n"
      ]
    },
    {
      "cell_type": "markdown",
      "metadata": {
        "id": "985f6b60"
      },
      "source": [
        "## Interpret and summarize the clusters\n",
        "\n",
        "### Subtask:\n",
        "Interpret and summarize the clusters\n"
      ]
    },
    {
      "cell_type": "markdown",
      "metadata": {
        "id": "31ec7c80"
      },
      "source": [
        "**Reasoning**:\n",
        "Examine the cluster_summary DataFrame to understand the characteristics of each cluster and interpret the clusters based on the provided statistics.\n",
        "\n"
      ]
    },
    {
      "cell_type": "code",
      "execution_count": 36,
      "metadata": {
        "colab": {
          "base_uri": "https://localhost:8080/",
          "height": 347
        },
        "id": "10cc7a3c",
        "outputId": "319a6ac3-32eb-45b8-ce93-1ba1a43aef05"
      },
      "outputs": [
        {
          "name": "stdout",
          "output_type": "stream",
          "text": [
            "Cluster Summary:\n"
          ]
        },
        {
          "data": {
            "text/html": [
              "<div>\n",
              "<style scoped>\n",
              "    .dataframe tbody tr th:only-of-type {\n",
              "        vertical-align: middle;\n",
              "    }\n",
              "\n",
              "    .dataframe tbody tr th {\n",
              "        vertical-align: top;\n",
              "    }\n",
              "\n",
              "    .dataframe thead tr th {\n",
              "        text-align: left;\n",
              "    }\n",
              "\n",
              "    .dataframe thead tr:last-of-type th {\n",
              "        text-align: right;\n",
              "    }\n",
              "</style>\n",
              "<table border=\"1\" class=\"dataframe\">\n",
              "  <thead>\n",
              "    <tr>\n",
              "      <th></th>\n",
              "      <th colspan=\"3\" halign=\"left\">avg_original_price</th>\n",
              "      <th colspan=\"3\" halign=\"left\">avg_discount_pct</th>\n",
              "      <th colspan=\"3\" halign=\"left\">avg_available_rooms</th>\n",
              "      <th colspan=\"3\" halign=\"left\">median_stars</th>\n",
              "      <th>Hotel Name</th>\n",
              "    </tr>\n",
              "    <tr>\n",
              "      <th></th>\n",
              "      <th>mean</th>\n",
              "      <th>min</th>\n",
              "      <th>max</th>\n",
              "      <th>mean</th>\n",
              "      <th>min</th>\n",
              "      <th>max</th>\n",
              "      <th>mean</th>\n",
              "      <th>min</th>\n",
              "      <th>max</th>\n",
              "      <th>mean</th>\n",
              "      <th>min</th>\n",
              "      <th>max</th>\n",
              "      <th>count</th>\n",
              "    </tr>\n",
              "    <tr>\n",
              "      <th>cluster</th>\n",
              "      <th></th>\n",
              "      <th></th>\n",
              "      <th></th>\n",
              "      <th></th>\n",
              "      <th></th>\n",
              "      <th></th>\n",
              "      <th></th>\n",
              "      <th></th>\n",
              "      <th></th>\n",
              "      <th></th>\n",
              "      <th></th>\n",
              "      <th></th>\n",
              "      <th></th>\n",
              "    </tr>\n",
              "  </thead>\n",
              "  <tbody>\n",
              "    <tr>\n",
              "      <th>0</th>\n",
              "      <td>1000.930754</td>\n",
              "      <td>338.000000</td>\n",
              "      <td>2089.000000</td>\n",
              "      <td>0.099835</td>\n",
              "      <td>0.038785</td>\n",
              "      <td>0.279417</td>\n",
              "      <td>5.916007</td>\n",
              "      <td>1.000000</td>\n",
              "      <td>48.500000</td>\n",
              "      <td>2.763441</td>\n",
              "      <td>0</td>\n",
              "      <td>4</td>\n",
              "      <td>279</td>\n",
              "    </tr>\n",
              "    <tr>\n",
              "      <th>1</th>\n",
              "      <td>1964.556641</td>\n",
              "      <td>902.669145</td>\n",
              "      <td>5421.231884</td>\n",
              "      <td>0.069590</td>\n",
              "      <td>0.018812</td>\n",
              "      <td>0.219780</td>\n",
              "      <td>10.612057</td>\n",
              "      <td>1.000000</td>\n",
              "      <td>57.242872</td>\n",
              "      <td>4.208661</td>\n",
              "      <td>3</td>\n",
              "      <td>5</td>\n",
              "      <td>254</td>\n",
              "    </tr>\n",
              "    <tr>\n",
              "      <th>2</th>\n",
              "      <td>1623.047554</td>\n",
              "      <td>1000.750000</td>\n",
              "      <td>3225.405405</td>\n",
              "      <td>0.080146</td>\n",
              "      <td>0.044776</td>\n",
              "      <td>0.234992</td>\n",
              "      <td>113.675880</td>\n",
              "      <td>66.601266</td>\n",
              "      <td>302.334424</td>\n",
              "      <td>4.000000</td>\n",
              "      <td>3</td>\n",
              "      <td>5</td>\n",
              "      <td>21</td>\n",
              "    </tr>\n",
              "  </tbody>\n",
              "</table>\n",
              "</div>"
            ],
            "text/plain": [
              "        avg_original_price                           avg_discount_pct  \\\n",
              "                      mean          min          max             mean   \n",
              "cluster                                                                 \n",
              "0              1000.930754   338.000000  2089.000000         0.099835   \n",
              "1              1964.556641   902.669145  5421.231884         0.069590   \n",
              "2              1623.047554  1000.750000  3225.405405         0.080146   \n",
              "\n",
              "                            avg_available_rooms                         \\\n",
              "              min       max                mean        min         max   \n",
              "cluster                                                                  \n",
              "0        0.038785  0.279417            5.916007   1.000000   48.500000   \n",
              "1        0.018812  0.219780           10.612057   1.000000   57.242872   \n",
              "2        0.044776  0.234992          113.675880  66.601266  302.334424   \n",
              "\n",
              "        median_stars         Hotel Name  \n",
              "                mean min max      count  \n",
              "cluster                                  \n",
              "0           2.763441   0   4        279  \n",
              "1           4.208661   3   5        254  \n",
              "2           4.000000   3   5         21  "
            ]
          },
          "metadata": {},
          "output_type": "display_data"
        },
        {
          "name": "stdout",
          "output_type": "stream",
          "text": [
            "\n",
            "Cluster Interpretations:\n",
            "Cluster 0: Cheap Hotels with Moderate Discounts and Average Availability\n",
            "Cluster 1: Luxury Hotels with Lower Discounts and Average Availability\n",
            "Cluster 2: Mid-Range Hotels with Moderate Discounts and High Availability\n"
          ]
        }
      ],
      "source": [
        "print(\"Cluster Summary:\")\n",
        "display(cluster_summary)\n",
        "\n",
        "print(\"\\nCluster Interpretations:\")\n",
        "print(\"Cluster 0: Cheap Hotels with Moderate Discounts and Average Availability\")\n",
        "print(\"Cluster 1: Luxury Hotels with Lower Discounts and Average Availability\")\n",
        "print(\"Cluster 2: Mid-Range Hotels with Moderate Discounts and High Availability\")"
      ]
    },
    {
      "cell_type": "markdown",
      "metadata": {
        "id": "055f0e33"
      },
      "source": [
        "**Reasoning**:\n",
        "Write a summary of the clustering analysis, including the number of clusters found, the evaluation metrics used, the rationale for choosing the best model, and the interpretations of each cluster.\n",
        "\n"
      ]
    },
    {
      "cell_type": "code",
      "execution_count": 37,
      "metadata": {
        "colab": {
          "base_uri": "https://localhost:8080/"
        },
        "id": "ec190ae2",
        "outputId": "e32ec4f0-c83a-4003-c480-7a588dcf4f65"
      },
      "outputs": [
        {
          "name": "stdout",
          "output_type": "stream",
          "text": [
            "Clustering Analysis Summary:\n",
            "Number of clusters found: 3\n",
            "Evaluation metrics used: Silhouette Score, Calinski-Harabasz Index, Davies-Bouldin Index.\n",
            "Rationale for choosing the best model: Based on the silhouette scores for k from 2 to 9, k=3 yielded the highest silhouette score, indicating a relatively good separation between clusters. Additionally, prior evaluation metrics (Calinski-Harabasz and Davies-Bouldin) also suggested KMeans performed well, and the PCA visualization showed some separation of these 3 clusters.\n",
            "\n",
            "Key Characteristics and Interpretations of Hotel Clusters:\n",
            "- Cluster 0 (Cheap Hotels with Moderate Discounts and Average Availability): These hotels generally have lower original prices and median stars (around 2.76). They offer moderate discounts (around 9.98%) and have average available rooms (median around 5.9).\n",
            "- Cluster 1 (Luxury Hotels with Lower Discounts and Average Availability): These hotels have higher original prices and median stars (around 4.21). They offer lower discounts (around 6.96%) compared to other clusters and have average available rooms (median around 10.6).\n",
            "- Cluster 2 (Mid-Range Hotels with Moderate Discounts and High Availability): These hotels have mid-range original prices and median stars (around 4.0). They offer moderate discounts (around 8.01%) and have significantly higher available rooms (median around 113.68) compared to the other clusters.\n"
          ]
        }
      ],
      "source": [
        "print(\"Clustering Analysis Summary:\")\n",
        "print(f\"Number of clusters found: {best_k}\")\n",
        "print(\"Evaluation metrics used: Silhouette Score, Calinski-Harabasz Index, Davies-Bouldin Index.\")\n",
        "print(\"Rationale for choosing the best model: Based on the silhouette scores for k from 2 to 9, k=3 yielded the highest silhouette score, indicating a relatively good separation between clusters. Additionally, prior evaluation metrics (Calinski-Harabasz and Davies-Bouldin) also suggested KMeans performed well, and the PCA visualization showed some separation of these 3 clusters.\")\n",
        "\n",
        "print(\"\\nKey Characteristics and Interpretations of Hotel Clusters:\")\n",
        "print(\"- Cluster 0 (Cheap Hotels with Moderate Discounts and Average Availability): These hotels generally have lower original prices and median stars (around 2.76). They offer moderate discounts (around 9.98%) and have average available rooms (median around 5.9).\")\n",
        "print(\"- Cluster 1 (Luxury Hotels with Lower Discounts and Average Availability): These hotels have higher original prices and median stars (around 4.21). They offer lower discounts (around 6.96%) compared to other clusters and have average available rooms (median around 10.6).\")\n",
        "print(\"- Cluster 2 (Mid-Range Hotels with Moderate Discounts and High Availability): These hotels have mid-range original prices and median stars (around 4.0). They offer moderate discounts (around 8.01%) and have significantly higher available rooms (median around 113.68) compared to the other clusters.\")"
      ]
    },
    {
      "cell_type": "markdown",
      "metadata": {
        "id": "96aedfa8"
      },
      "source": [
        "## Summary:\n",
        "\n",
        "### Data Analysis Key Findings\n",
        "\n",
        "*   DBSCAN with `eps=0.5` and `min_samples=5` identified 4 clusters and 124 noise points.\n",
        "*   Agglomerative Clustering with `n_clusters=3` assigned all data points to one of three clusters.\n",
        "*   Based on evaluation metrics, KMeans achieved the highest Calinski-Harabasz score (233.60) and the lowest Davies-Bouldin score (0.995), suggesting better clustering performance compared to Agglomerative Clustering (Calinski-Harabasz: 195.67, Davies-Bouldin: 1.09) and DBSCAN (Calinski-Harabasz: 193.09, Davies-Bouldin: 1.235) on the non-noise data points.\n",
        "*   The 3 clusters identified by KMeans were interpreted as:\n",
        "    *   Cluster 0: Cheap Hotels with Moderate Discounts and Average Availability (median stars around 2.76, median available rooms around 5.9).\n",
        "    *   Cluster 1: Luxury Hotels with Lower Discounts and Average Availability (median stars around 4.21, median available rooms around 10.6).\n",
        "    *   Cluster 2: Mid-Range Hotels with Moderate Discounts and High Availability (median stars around 4.0, median available rooms around 113.68).\n",
        "\n",
        "### Insights or Next Steps\n",
        "\n",
        "*   KMeans with 3 clusters appears to be the best model based on the evaluation metrics and visual separation in the PCA plot.\n",
        "*   Further analysis could involve exploring the geographical distribution of these clusters or identifying other features that differentiate them.\n"
      ]
    },
    {
      "cell_type": "code",
      "execution_count": 38,
      "metadata": {
        "colab": {
          "base_uri": "https://localhost:8080/",
          "height": 141
        },
        "id": "8a5e933a",
        "outputId": "5ca66758-d3b5-4324-d9f1-d4258b68e096"
      },
      "outputs": [
        {
          "data": {
            "text/html": [
              "<script type=\"esms-options\">{\"shimMode\": true}</script><style>*[data-root-id],\n",
              "*[data-root-id] > * {\n",
              "  box-sizing: border-box;\n",
              "  font-family: var(--jp-ui-font-family);\n",
              "  font-size: var(--jp-ui-font-size1);\n",
              "  color: var(--vscode-editor-foreground, var(--jp-ui-font-color1));\n",
              "}\n",
              "\n",
              "/* Override VSCode background color */\n",
              ".cell-output-ipywidget-background:has(\n",
              "  > .cell-output-ipywidget-background > .lm-Widget > *[data-root-id]\n",
              "),\n",
              ".cell-output-ipywidget-background:has(> .lm-Widget > *[data-root-id]) {\n",
              "  background-color: transparent !important;\n",
              "}\n",
              "</style>"
            ]
          },
          "metadata": {},
          "output_type": "display_data"
        },
        {
          "data": {
            "application/javascript": "(function(root) {\n  function now() {\n    return new Date();\n  }\n\n  const force = true;\n  const py_version = '3.8.0'.replace('rc', '-rc.').replace('.dev', '-dev.');\n  const reloading = false;\n  const Bokeh = root.Bokeh;\n\n  // Set a timeout for this load but only if we are not already initializing\n  if (typeof (root._bokeh_timeout) === \"undefined\" || (force || !root._bokeh_is_initializing)) {\n    root._bokeh_timeout = Date.now() + 5000;\n    root._bokeh_failed_load = false;\n  }\n\n  function run_callbacks() {\n    try {\n      root._bokeh_onload_callbacks.forEach(function(callback) {\n        if (callback != null)\n          callback();\n      });\n    } finally {\n      delete root._bokeh_onload_callbacks;\n    }\n    console.debug(\"Bokeh: all callbacks have finished\");\n  }\n\n  function load_libs(css_urls, js_urls, js_modules, js_exports, callback) {\n    if (css_urls == null) css_urls = [];\n    if (js_urls == null) js_urls = [];\n    if (js_modules == null) js_modules = [];\n    if (js_exports == null) js_exports = {};\n\n    root._bokeh_onload_callbacks.push(callback);\n\n    if (root._bokeh_is_loading > 0) {\n      // Don't load bokeh if it is still initializing\n      console.debug(\"Bokeh: BokehJS is being loaded, scheduling callback at\", now());\n      return null;\n    } else if (js_urls.length === 0 && js_modules.length === 0 && Object.keys(js_exports).length === 0) {\n      // There is nothing to load\n      run_callbacks();\n      return null;\n    }\n\n    function on_load() {\n      root._bokeh_is_loading--;\n      if (root._bokeh_is_loading === 0) {\n        console.debug(\"Bokeh: all BokehJS libraries/stylesheets loaded\");\n        run_callbacks()\n      }\n    }\n    window._bokeh_on_load = on_load\n\n    function on_error(e) {\n      const src_el = e.srcElement\n      console.error(\"failed to load \" + (src_el.href || src_el.src));\n    }\n\n    const skip = [];\n    if (window.requirejs) {\n      window.requirejs.config({'packages': {}, 'paths': {}, 'shim': {}});\n      root._bokeh_is_loading = css_urls.length + 0;\n    } else {\n      root._bokeh_is_loading = css_urls.length + js_urls.length + js_modules.length + Object.keys(js_exports).length;\n    }\n\n    const existing_stylesheets = []\n    const links = document.getElementsByTagName('link')\n    for (let i = 0; i < links.length; i++) {\n      const link = links[i]\n      if (link.href != null) {\n        existing_stylesheets.push(link.href)\n      }\n    }\n    for (let i = 0; i < css_urls.length; i++) {\n      const url = css_urls[i];\n      const escaped = encodeURI(url)\n      if (existing_stylesheets.indexOf(escaped) !== -1) {\n        on_load()\n        continue;\n      }\n      const element = document.createElement(\"link\");\n      element.onload = on_load;\n      element.onerror = on_error;\n      element.rel = \"stylesheet\";\n      element.type = \"text/css\";\n      element.href = url;\n      console.debug(\"Bokeh: injecting link tag for BokehJS stylesheet: \", url);\n      document.body.appendChild(element);\n    }    var existing_scripts = []\n    const scripts = document.getElementsByTagName('script')\n    for (let i = 0; i < scripts.length; i++) {\n      var script = scripts[i]\n      if (script.src != null) {\n        existing_scripts.push(script.src)\n      }\n    }\n    for (let i = 0; i < js_urls.length; i++) {\n      const url = js_urls[i];\n      const escaped = encodeURI(url)\n      if (skip.indexOf(escaped) !== -1 || existing_scripts.indexOf(escaped) !== -1) {\n        if (!window.requirejs) {\n          on_load();\n        }\n        continue;\n      }\n      const element = document.createElement('script');\n      element.onload = on_load;\n      element.onerror = on_error;\n      element.async = false;\n      element.src = url;\n      console.debug(\"Bokeh: injecting script tag for BokehJS library: \", url);\n      document.head.appendChild(element);\n    }\n    for (let i = 0; i < js_modules.length; i++) {\n      const url = js_modules[i];\n      const escaped = encodeURI(url)\n      if (skip.indexOf(escaped) !== -1 || existing_scripts.indexOf(escaped) !== -1) {\n        if (!window.requirejs) {\n          on_load();\n        }\n        continue;\n      }\n      var element = document.createElement('script');\n      element.onload = on_load;\n      element.onerror = on_error;\n      element.async = false;\n      element.src = url;\n      element.type = \"module\";\n      console.debug(\"Bokeh: injecting script tag for BokehJS library: \", url);\n      document.head.appendChild(element);\n    }\n    for (const name in js_exports) {\n      const url = js_exports[name];\n      const escaped = encodeURI(url)\n      if (skip.indexOf(escaped) >= 0 || root[name] != null) {\n        if (!window.requirejs) {\n          on_load();\n        }\n        continue;\n      }\n      var element = document.createElement('script');\n      element.onerror = on_error;\n      element.async = false;\n      element.type = \"module\";\n      console.debug(\"Bokeh: injecting script tag for BokehJS library: \", url);\n      element.textContent = `\n      import ${name} from \"${url}\"\n      window.${name} = ${name}\n      window._bokeh_on_load()\n      `\n      document.head.appendChild(element);\n    }\n    if (!js_urls.length && !js_modules.length) {\n      on_load()\n    }\n  };\n\n  function inject_raw_css(css) {\n    const element = document.createElement(\"style\");\n    element.appendChild(document.createTextNode(css));\n    document.body.appendChild(element);\n  }\n\n  const js_urls = [\"https://cdn.holoviz.org/panel/1.8.1/dist/bundled/reactiveesm/es-module-shims@^1.10.0/dist/es-module-shims.min.js\", \"https://cdn.bokeh.org/bokeh/release/bokeh-3.8.0.min.js\", \"https://cdn.bokeh.org/bokeh/release/bokeh-gl-3.8.0.min.js\", \"https://cdn.bokeh.org/bokeh/release/bokeh-widgets-3.8.0.min.js\", \"https://cdn.bokeh.org/bokeh/release/bokeh-tables-3.8.0.min.js\", \"https://cdn.holoviz.org/panel/1.8.1/dist/panel.min.js\"];\n  const js_modules = [];\n  const js_exports = {};\n  const css_urls = [];\n  const inline_js = [    function(Bokeh) {\n      Bokeh.set_log_level(\"info\");\n    },\nfunction(Bokeh) {} // ensure no trailing comma for IE\n  ];\n\n  function run_inline_js() {\n    if ((root.Bokeh !== undefined) || (force === true)) {\n      for (let i = 0; i < inline_js.length; i++) {\n        try {\n          inline_js[i].call(root, root.Bokeh);\n        } catch(e) {\n          if (!reloading) {\n            throw e;\n          }\n        }\n      }\n      // Cache old bokeh versions\n      if (Bokeh != undefined && !reloading) {\n        var NewBokeh = root.Bokeh;\n        if (Bokeh.versions === undefined) {\n          Bokeh.versions = new Map();\n        }\n        if (NewBokeh.version !== Bokeh.version) {\n          Bokeh.versions.set(NewBokeh.version, NewBokeh)\n        }\n        root.Bokeh = Bokeh;\n      }\n    } else if (Date.now() < root._bokeh_timeout) {\n      setTimeout(run_inline_js, 100);\n    } else if (!root._bokeh_failed_load) {\n      console.log(\"Bokeh: BokehJS failed to load within specified timeout.\");\n      root._bokeh_failed_load = true;\n    }\n    root._bokeh_is_initializing = false\n  }\n\n  function load_or_wait() {\n    // Implement a backoff loop that tries to ensure we do not load multiple\n    // versions of Bokeh and its dependencies at the same time.\n    // In recent versions we use the root._bokeh_is_initializing flag\n    // to determine whether there is an ongoing attempt to initialize\n    // bokeh, however for backward compatibility we also try to ensure\n    // that we do not start loading a newer (Panel>=1.0 and Bokeh>3) version\n    // before older versions are fully initialized.\n    if (root._bokeh_is_initializing && Date.now() > root._bokeh_timeout) {\n      // If the timeout and bokeh was not successfully loaded we reset\n      // everything and try loading again\n      root._bokeh_timeout = Date.now() + 5000;\n      root._bokeh_is_initializing = false;\n      root._bokeh_onload_callbacks = undefined;\n      root._bokeh_is_loading = 0\n      console.log(\"Bokeh: BokehJS was loaded multiple times but one version failed to initialize.\");\n      load_or_wait();\n    } else if (root._bokeh_is_initializing || (typeof root._bokeh_is_initializing === \"undefined\" && root._bokeh_onload_callbacks !== undefined)) {\n      setTimeout(load_or_wait, 100);\n    } else {\n      root._bokeh_is_initializing = true\n      root._bokeh_onload_callbacks = []\n      const bokeh_loaded = root.Bokeh != null && (root.Bokeh.version === py_version || (root.Bokeh.versions !== undefined && root.Bokeh.versions.has(py_version)));\n      if (!reloading && !bokeh_loaded) {\n        if (root.Bokeh) {\n          root.Bokeh = undefined;\n        }\n        console.debug(\"Bokeh: BokehJS not loaded, scheduling load and callback at\", now());\n      }\n      load_libs(css_urls, js_urls, js_modules, js_exports, function() {\n        console.debug(\"Bokeh: BokehJS plotting callback run at\", now());\n        run_inline_js();\n      });\n    }\n  }\n  // Give older versions of the autoload script a head-start to ensure\n  // they initialize before we start loading newer version.\n  setTimeout(load_or_wait, 100)\n}(window));",
            "application/vnd.holoviews_load.v0+json": ""
          },
          "metadata": {},
          "output_type": "display_data"
        },
        {
          "data": {
            "application/javascript": "\nif ((window.PyViz === undefined) || (window.PyViz instanceof HTMLElement)) {\n  window.PyViz = {comms: {}, comm_status:{}, kernels:{}, receivers: {}, plot_index: []}\n}\n\n\n    function JupyterCommManager() {\n    }\n\n    JupyterCommManager.prototype.register_target = function(plot_id, comm_id, msg_handler) {\n      if (window.comm_manager || ((window.Jupyter !== undefined) && (Jupyter.notebook.kernel != null))) {\n        var comm_manager = window.comm_manager || Jupyter.notebook.kernel.comm_manager;\n        comm_manager.register_target(comm_id, function(comm) {\n          comm.on_msg(msg_handler);\n        });\n      } else if ((plot_id in window.PyViz.kernels) && (window.PyViz.kernels[plot_id])) {\n        window.PyViz.kernels[plot_id].registerCommTarget(comm_id, function(comm) {\n          comm.onMsg = msg_handler;\n        });\n      } else if (typeof google != 'undefined' && google.colab.kernel != null) {\n        google.colab.kernel.comms.registerTarget(comm_id, (comm) => {\n          var messages = comm.messages[Symbol.asyncIterator]();\n          function processIteratorResult(result) {\n            var message = result.value;\n            var content = {data: message.data, comm_id};\n            var buffers = []\n            for (var buffer of message.buffers || []) {\n              buffers.push(new DataView(buffer))\n            }\n            var metadata = message.metadata || {};\n            var msg = {content, buffers, metadata}\n            msg_handler(msg);\n            return messages.next().then(processIteratorResult);\n          }\n          return messages.next().then(processIteratorResult);\n        })\n      }\n    }\n\n    JupyterCommManager.prototype.get_client_comm = function(plot_id, comm_id, msg_handler) {\n      if (comm_id in window.PyViz.comms) {\n        return window.PyViz.comms[comm_id];\n      } else if (window.comm_manager || ((window.Jupyter !== undefined) && (Jupyter.notebook.kernel != null))) {\n        var comm_manager = window.comm_manager || Jupyter.notebook.kernel.comm_manager;\n        var comm = comm_manager.new_comm(comm_id, {}, {}, {}, comm_id);\n        if (msg_handler) {\n          comm.on_msg(msg_handler);\n        }\n      } else if ((plot_id in window.PyViz.kernels) && (window.PyViz.kernels[plot_id])) {\n        var comm = window.PyViz.kernels[plot_id].connectToComm(comm_id);\n        let retries = 0;\n        const open = () => {\n          if (comm.active) {\n            comm.open();\n          } else if (retries > 3) {\n            console.warn('Comm target never activated')\n          } else {\n            retries += 1\n            setTimeout(open, 500)\n          }\n        }\n        if (comm.active) {\n          comm.open();\n        } else {\n          setTimeout(open, 500)\n        }\n        if (msg_handler) {\n          comm.onMsg = msg_handler;\n        }\n      } else if (typeof google != 'undefined' && google.colab.kernel != null) {\n        var comm_promise = google.colab.kernel.comms.open(comm_id)\n        comm_promise.then((comm) => {\n          window.PyViz.comms[comm_id] = comm;\n          if (msg_handler) {\n            var messages = comm.messages[Symbol.asyncIterator]();\n            function processIteratorResult(result) {\n              var message = result.value;\n              var content = {data: message.data};\n              var metadata = message.metadata || {comm_id};\n              var msg = {content, metadata}\n              msg_handler(msg);\n              return messages.next().then(processIteratorResult);\n            }\n            return messages.next().then(processIteratorResult);\n          }\n        })\n        var sendClosure = (data, metadata, buffers, disposeOnDone) => {\n          return comm_promise.then((comm) => {\n            comm.send(data, metadata, buffers, disposeOnDone);\n          });\n        };\n        var comm = {\n          send: sendClosure\n        };\n      }\n      window.PyViz.comms[comm_id] = comm;\n      return comm;\n    }\n    window.PyViz.comm_manager = new JupyterCommManager();\n    \n\n\nvar JS_MIME_TYPE = 'application/javascript';\nvar HTML_MIME_TYPE = 'text/html';\nvar EXEC_MIME_TYPE = 'application/vnd.holoviews_exec.v0+json';\nvar CLASS_NAME = 'output';\n\n/**\n * Render data to the DOM node\n */\nfunction render(props, node) {\n  var div = document.createElement(\"div\");\n  var script = document.createElement(\"script\");\n  node.appendChild(div);\n  node.appendChild(script);\n}\n\n/**\n * Handle when a new output is added\n */\nfunction handle_add_output(event, handle) {\n  var output_area = handle.output_area;\n  var output = handle.output;\n  if ((output.data == undefined) || (!output.data.hasOwnProperty(EXEC_MIME_TYPE))) {\n    return\n  }\n  var id = output.metadata[EXEC_MIME_TYPE][\"id\"];\n  var toinsert = output_area.element.find(\".\" + CLASS_NAME.split(' ')[0]);\n  if (id !== undefined) {\n    var nchildren = toinsert.length;\n    var html_node = toinsert[nchildren-1].children[0];\n    html_node.innerHTML = output.data[HTML_MIME_TYPE];\n    var scripts = [];\n    var nodelist = html_node.querySelectorAll(\"script\");\n    for (var i in nodelist) {\n      if (nodelist.hasOwnProperty(i)) {\n        scripts.push(nodelist[i])\n      }\n    }\n\n    scripts.forEach( function (oldScript) {\n      var newScript = document.createElement(\"script\");\n      var attrs = [];\n      var nodemap = oldScript.attributes;\n      for (var j in nodemap) {\n        if (nodemap.hasOwnProperty(j)) {\n          attrs.push(nodemap[j])\n        }\n      }\n      attrs.forEach(function(attr) { newScript.setAttribute(attr.name, attr.value) });\n      newScript.appendChild(document.createTextNode(oldScript.innerHTML));\n      oldScript.parentNode.replaceChild(newScript, oldScript);\n    });\n    if (JS_MIME_TYPE in output.data) {\n      toinsert[nchildren-1].children[1].textContent = output.data[JS_MIME_TYPE];\n    }\n    output_area._hv_plot_id = id;\n    if ((window.Bokeh !== undefined) && (id in Bokeh.index)) {\n      window.PyViz.plot_index[id] = Bokeh.index[id];\n    } else {\n      window.PyViz.plot_index[id] = null;\n    }\n  } else if (output.metadata[EXEC_MIME_TYPE][\"server_id\"] !== undefined) {\n    var bk_div = document.createElement(\"div\");\n    bk_div.innerHTML = output.data[HTML_MIME_TYPE];\n    var script_attrs = bk_div.children[0].attributes;\n    for (var i = 0; i < script_attrs.length; i++) {\n      toinsert[toinsert.length - 1].childNodes[1].setAttribute(script_attrs[i].name, script_attrs[i].value);\n    }\n    // store reference to server id on output_area\n    output_area._bokeh_server_id = output.metadata[EXEC_MIME_TYPE][\"server_id\"];\n  }\n}\n\n/**\n * Handle when an output is cleared or removed\n */\nfunction handle_clear_output(event, handle) {\n  var id = handle.cell.output_area._hv_plot_id;\n  var server_id = handle.cell.output_area._bokeh_server_id;\n  if (((id === undefined) || !(id in PyViz.plot_index)) && (server_id !== undefined)) { return; }\n  var comm = window.PyViz.comm_manager.get_client_comm(\"hv-extension-comm\", \"hv-extension-comm\", function () {});\n  if (server_id !== null) {\n    comm.send({event_type: 'server_delete', 'id': server_id});\n    return;\n  } else if (comm !== null) {\n    comm.send({event_type: 'delete', 'id': id});\n  }\n  delete PyViz.plot_index[id];\n  if ((window.Bokeh !== undefined) & (id in window.Bokeh.index)) {\n    var doc = window.Bokeh.index[id].model.document\n    doc.clear();\n    const i = window.Bokeh.documents.indexOf(doc);\n    if (i > -1) {\n      window.Bokeh.documents.splice(i, 1);\n    }\n  }\n}\n\n/**\n * Handle kernel restart event\n */\nfunction handle_kernel_cleanup(event, handle) {\n  delete PyViz.comms[\"hv-extension-comm\"];\n  window.PyViz.plot_index = {}\n}\n\n/**\n * Handle update_display_data messages\n */\nfunction handle_update_output(event, handle) {\n  handle_clear_output(event, {cell: {output_area: handle.output_area}})\n  handle_add_output(event, handle)\n}\n\nfunction register_renderer(events, OutputArea) {\n  function append_mime(data, metadata, element) {\n    // create a DOM node to render to\n    var toinsert = this.create_output_subarea(\n    metadata,\n    CLASS_NAME,\n    EXEC_MIME_TYPE\n    );\n    this.keyboard_manager.register_events(toinsert);\n    // Render to node\n    var props = {data: data, metadata: metadata[EXEC_MIME_TYPE]};\n    render(props, toinsert[0]);\n    element.append(toinsert);\n    return toinsert\n  }\n\n  events.on('output_added.OutputArea', handle_add_output);\n  events.on('output_updated.OutputArea', handle_update_output);\n  events.on('clear_output.CodeCell', handle_clear_output);\n  events.on('delete.Cell', handle_clear_output);\n  events.on('kernel_ready.Kernel', handle_kernel_cleanup);\n\n  OutputArea.prototype.register_mime_type(EXEC_MIME_TYPE, append_mime, {\n    safe: true,\n    index: 0\n  });\n}\n\nif (window.Jupyter !== undefined) {\n  try {\n    var events = require('base/js/events');\n    var OutputArea = require('notebook/js/outputarea').OutputArea;\n    if (OutputArea.prototype.mime_types().indexOf(EXEC_MIME_TYPE) == -1) {\n      register_renderer(events, OutputArea);\n    }\n  } catch(err) {\n  }\n}\n",
            "application/vnd.holoviews_load.v0+json": ""
          },
          "metadata": {},
          "output_type": "display_data"
        },
        {
          "data": {
            "application/vnd.holoviews_exec.v0+json": "",
            "text/html": [
              "<div id='6d57be06-a5e4-4753-ab7f-60b41bb45731'>\n",
              "  <div id=\"bbba6779-27e9-489b-a9c3-8c840ee4d940\" data-root-id=\"6d57be06-a5e4-4753-ab7f-60b41bb45731\" style=\"display: contents;\"></div>\n",
              "</div>\n",
              "<script type=\"application/javascript\">(function(root) {\n",
              "  var docs_json = {\"6a42b5e8-69a4-425d-b9c6-e487217e08f5\":{\"version\":\"3.8.0\",\"title\":\"Bokeh Application\",\"config\":{\"type\":\"object\",\"name\":\"DocumentConfig\",\"id\":\"b31cef53-d783-42a4-8d1c-d1fae23f2e2d\",\"attributes\":{\"notifications\":{\"type\":\"object\",\"name\":\"Notifications\",\"id\":\"d265a831-e593-40b2-9cb3-c43ca3dd7112\"}}},\"roots\":[{\"type\":\"object\",\"name\":\"panel.models.browser.BrowserInfo\",\"id\":\"6d57be06-a5e4-4753-ab7f-60b41bb45731\"},{\"type\":\"object\",\"name\":\"panel.models.comm_manager.CommManager\",\"id\":\"6588391f-5863-48c9-9acb-6af3abcdff0e\",\"attributes\":{\"plot_id\":\"6d57be06-a5e4-4753-ab7f-60b41bb45731\",\"comm_id\":\"1e77578370a04045b2d6c6c0c7e9d927\",\"client_comm_id\":\"7bf7f04b088f40c09f4e14df8409054c\"}}],\"defs\":[{\"type\":\"model\",\"name\":\"ReactiveHTML1\"},{\"type\":\"model\",\"name\":\"FlexBox1\",\"properties\":[{\"name\":\"align_content\",\"kind\":\"Any\",\"default\":\"flex-start\"},{\"name\":\"align_items\",\"kind\":\"Any\",\"default\":\"flex-start\"},{\"name\":\"flex_direction\",\"kind\":\"Any\",\"default\":\"row\"},{\"name\":\"flex_wrap\",\"kind\":\"Any\",\"default\":\"wrap\"},{\"name\":\"gap\",\"kind\":\"Any\",\"default\":\"\"},{\"name\":\"justify_content\",\"kind\":\"Any\",\"default\":\"flex-start\"}]},{\"type\":\"model\",\"name\":\"FloatPanel1\",\"properties\":[{\"name\":\"config\",\"kind\":\"Any\",\"default\":{\"type\":\"map\"}},{\"name\":\"contained\",\"kind\":\"Any\",\"default\":true},{\"name\":\"position\",\"kind\":\"Any\",\"default\":\"right-top\"},{\"name\":\"offsetx\",\"kind\":\"Any\",\"default\":null},{\"name\":\"offsety\",\"kind\":\"Any\",\"default\":null},{\"name\":\"theme\",\"kind\":\"Any\",\"default\":\"primary\"},{\"name\":\"status\",\"kind\":\"Any\",\"default\":\"normalized\"}]},{\"type\":\"model\",\"name\":\"GridStack1\",\"properties\":[{\"name\":\"ncols\",\"kind\":\"Any\",\"default\":null},{\"name\":\"nrows\",\"kind\":\"Any\",\"default\":null},{\"name\":\"allow_resize\",\"kind\":\"Any\",\"default\":true},{\"name\":\"allow_drag\",\"kind\":\"Any\",\"default\":true},{\"name\":\"state\",\"kind\":\"Any\",\"default\":[]}]},{\"type\":\"model\",\"name\":\"drag1\",\"properties\":[{\"name\":\"slider_width\",\"kind\":\"Any\",\"default\":5},{\"name\":\"slider_color\",\"kind\":\"Any\",\"default\":\"black\"},{\"name\":\"start\",\"kind\":\"Any\",\"default\":0},{\"name\":\"end\",\"kind\":\"Any\",\"default\":100},{\"name\":\"value\",\"kind\":\"Any\",\"default\":50}]},{\"type\":\"model\",\"name\":\"click1\",\"properties\":[{\"name\":\"terminal_output\",\"kind\":\"Any\",\"default\":\"\"},{\"name\":\"debug_name\",\"kind\":\"Any\",\"default\":\"\"},{\"name\":\"clears\",\"kind\":\"Any\",\"default\":0}]},{\"type\":\"model\",\"name\":\"ReactiveESM1\",\"properties\":[{\"name\":\"esm_constants\",\"kind\":\"Any\",\"default\":{\"type\":\"map\"}}]},{\"type\":\"model\",\"name\":\"JSComponent1\",\"properties\":[{\"name\":\"esm_constants\",\"kind\":\"Any\",\"default\":{\"type\":\"map\"}}]},{\"type\":\"model\",\"name\":\"ReactComponent1\",\"properties\":[{\"name\":\"use_shadow_dom\",\"kind\":\"Any\",\"default\":true},{\"name\":\"esm_constants\",\"kind\":\"Any\",\"default\":{\"type\":\"map\"}}]},{\"type\":\"model\",\"name\":\"AnyWidgetComponent1\",\"properties\":[{\"name\":\"use_shadow_dom\",\"kind\":\"Any\",\"default\":true},{\"name\":\"esm_constants\",\"kind\":\"Any\",\"default\":{\"type\":\"map\"}}]},{\"type\":\"model\",\"name\":\"FastWrapper1\",\"properties\":[{\"name\":\"object\",\"kind\":\"Any\",\"default\":null},{\"name\":\"style\",\"kind\":\"Any\",\"default\":null}]},{\"type\":\"model\",\"name\":\"NotificationArea1\",\"properties\":[{\"name\":\"js_events\",\"kind\":\"Any\",\"default\":{\"type\":\"map\"}},{\"name\":\"max_notifications\",\"kind\":\"Any\",\"default\":5},{\"name\":\"notifications\",\"kind\":\"Any\",\"default\":[]},{\"name\":\"position\",\"kind\":\"Any\",\"default\":\"bottom-right\"},{\"name\":\"_clear\",\"kind\":\"Any\",\"default\":0},{\"name\":\"types\",\"kind\":\"Any\",\"default\":[{\"type\":\"map\",\"entries\":[[\"type\",\"warning\"],[\"background\",\"#ffc107\"],[\"icon\",{\"type\":\"map\",\"entries\":[[\"className\",\"fas fa-exclamation-triangle\"],[\"tagName\",\"i\"],[\"color\",\"white\"]]}]]},{\"type\":\"map\",\"entries\":[[\"type\",\"info\"],[\"background\",\"#007bff\"],[\"icon\",{\"type\":\"map\",\"entries\":[[\"className\",\"fas fa-info-circle\"],[\"tagName\",\"i\"],[\"color\",\"white\"]]}]]}]}]},{\"type\":\"model\",\"name\":\"Notification\",\"properties\":[{\"name\":\"background\",\"kind\":\"Any\",\"default\":null},{\"name\":\"duration\",\"kind\":\"Any\",\"default\":3000},{\"name\":\"icon\",\"kind\":\"Any\",\"default\":null},{\"name\":\"message\",\"kind\":\"Any\",\"default\":\"\"},{\"name\":\"notification_type\",\"kind\":\"Any\",\"default\":null},{\"name\":\"_rendered\",\"kind\":\"Any\",\"default\":false},{\"name\":\"_destroyed\",\"kind\":\"Any\",\"default\":false}]},{\"type\":\"model\",\"name\":\"TemplateActions1\",\"properties\":[{\"name\":\"open_modal\",\"kind\":\"Any\",\"default\":0},{\"name\":\"close_modal\",\"kind\":\"Any\",\"default\":0}]},{\"type\":\"model\",\"name\":\"BootstrapTemplateActions1\",\"properties\":[{\"name\":\"open_modal\",\"kind\":\"Any\",\"default\":0},{\"name\":\"close_modal\",\"kind\":\"Any\",\"default\":0}]},{\"type\":\"model\",\"name\":\"TemplateEditor1\",\"properties\":[{\"name\":\"layout\",\"kind\":\"Any\",\"default\":[]}]},{\"type\":\"model\",\"name\":\"MaterialTemplateActions1\",\"properties\":[{\"name\":\"open_modal\",\"kind\":\"Any\",\"default\":0},{\"name\":\"close_modal\",\"kind\":\"Any\",\"default\":0}]},{\"type\":\"model\",\"name\":\"request_value1\",\"properties\":[{\"name\":\"fill\",\"kind\":\"Any\",\"default\":\"none\"},{\"name\":\"_synced\",\"kind\":\"Any\",\"default\":null},{\"name\":\"_request_sync\",\"kind\":\"Any\",\"default\":0}]}]}};\n",
              "  var render_items = [{\"docid\":\"6a42b5e8-69a4-425d-b9c6-e487217e08f5\",\"roots\":{\"6d57be06-a5e4-4753-ab7f-60b41bb45731\":\"bbba6779-27e9-489b-a9c3-8c840ee4d940\"},\"root_ids\":[\"6d57be06-a5e4-4753-ab7f-60b41bb45731\"]}];\n",
              "  var docs = Object.values(docs_json)\n",
              "  if (!docs) {\n",
              "    return\n",
              "  }\n",
              "  const py_version = docs[0].version.replace('rc', '-rc.').replace('.dev', '-dev.')\n",
              "  async function embed_document(root) {\n",
              "    var Bokeh = get_bokeh(root)\n",
              "    await Bokeh.embed.embed_items_notebook(docs_json, render_items);\n",
              "    for (const render_item of render_items) {\n",
              "      for (const root_id of render_item.root_ids) {\n",
              "\tconst id_el = document.getElementById(root_id)\n",
              "\tif (id_el.children.length && id_el.children[0].hasAttribute('data-root-id')) {\n",
              "\t  const root_el = id_el.children[0]\n",
              "\t  root_el.id = root_el.id + '-rendered'\n",
              "\t  for (const child of root_el.children) {\n",
              "            // Ensure JupyterLab does not capture keyboard shortcuts\n",
              "            // see: https://jupyterlab.readthedocs.io/en/4.1.x/extension/notebook.html#keyboard-interaction-model\n",
              "\t    child.setAttribute('data-lm-suppress-shortcuts', 'true')\n",
              "\t  }\n",
              "\t}\n",
              "      }\n",
              "    }\n",
              "  }\n",
              "  function get_bokeh(root) {\n",
              "    if (root.Bokeh === undefined) {\n",
              "      return null\n",
              "    } else if (root.Bokeh.version !== py_version) {\n",
              "      if (root.Bokeh.versions === undefined || !root.Bokeh.versions.has(py_version)) {\n",
              "\treturn null\n",
              "      }\n",
              "      return root.Bokeh.versions.get(py_version);\n",
              "    } else if (root.Bokeh.version === py_version) {\n",
              "      return root.Bokeh\n",
              "    }\n",
              "    return null\n",
              "  }\n",
              "  function is_loaded(root) {\n",
              "    var Bokeh = get_bokeh(root)\n",
              "    return (Bokeh != null && Bokeh.Panel !== undefined)\n",
              "  }\n",
              "  if (is_loaded(root)) {\n",
              "    embed_document(root);\n",
              "  } else {\n",
              "    var attempts = 0;\n",
              "    var timer = setInterval(function(root) {\n",
              "      if (is_loaded(root)) {\n",
              "        clearInterval(timer);\n",
              "        embed_document(root);\n",
              "      } else if (document.readyState == \"complete\") {\n",
              "        attempts++;\n",
              "        if (attempts > 200) {\n",
              "          clearInterval(timer);\n",
              "\t  var Bokeh = get_bokeh(root)\n",
              "\t  if (Bokeh == null || Bokeh.Panel == null) {\n",
              "            console.warn(\"Panel: ERROR: Unable to run Panel code because Bokeh or Panel library is missing\");\n",
              "\t  } else {\n",
              "\t    console.warn(\"Panel: WARNING: Attempting to render but not all required libraries could be resolved.\")\n",
              "\t    embed_document(root)\n",
              "\t  }\n",
              "        }\n",
              "      }\n",
              "    }, 25, root)\n",
              "  }\n",
              "})(window);</script>"
            ]
          },
          "metadata": {
            "application/vnd.holoviews_exec.v0+json": {
              "id": "6d57be06-a5e4-4753-ab7f-60b41bb45731"
            }
          },
          "output_type": "display_data"
        }
      ],
      "source": [
        "import panel as pn\n",
        "pn.extension()"
      ]
    },
    {
      "cell_type": "code",
      "execution_count": 39,
      "metadata": {
        "colab": {
          "base_uri": "https://localhost:8080/",
          "height": 472
        },
        "id": "f1361e11",
        "outputId": "15f8bea1-ea43-4306-f6ab-a8e789a3b424"
      },
      "outputs": [
        {
          "data": {
            "image/png": "[encoded data removed]",
            "text/plain": [
              "<Figure size 640x480 with 1 Axes>"
            ]
          },
          "metadata": {},
          "output_type": "display_data"
        }
      ],
      "source": [
        "# Load the discount code effectiveness data\n",
        "discount_effectiveness_df = pd.read_csv(\"discount_code_effectiveness.csv\")\n",
        "\n",
        "# Create a bar plot for discount code effectiveness\n",
        "fig, ax = plt.subplots() # Create a figure and axes\n",
        "sns.barplot(\n",
        "    x=discount_effectiveness_df[\"Discount Code\"],\n",
        "    y=discount_effectiveness_df[\"median_avail\"],\n",
        "    data=discount_effectiveness_df,\n",
        "    ax=ax # Pass the axes to seaborn\n",
        ")\n",
        "ax.set(xlabel=\"Discount Code\", ylabel=\"Median Available Rooms\", title=\"Discount Code Effectiveness\")\n",
        "\n",
        "discount_effectiveness_pane = pn.pane.Matplotlib(fig, tight=True) # Use the figure object"
      ]
    },
    {
      "cell_type": "code",
      "execution_count": 40,
      "metadata": {
        "id": "501bee01"
      },
      "outputs": [],
      "source": [
        "# Create a markdown pane for the clustering analysis summary\n",
        "clustering_summary_markdown = pn.pane.Markdown(\"\"\"\n",
        "## Clustering Analysis Summary:\n",
        "\n",
        "Number of clusters found: {best_k}\n",
        "Evaluation metrics used: Silhouette Score, Calinski-Harabasz Index, Davies-Bouldin Index.\n",
        "Rationale for choosing the best model: Based on the silhouette scores for k from 2 to 9, k=3 yielded the highest silhouette score, indicating a relatively good separation between clusters. Additionally, prior evaluation metrics (Calinski-Harabasz and Davies-Bouldin) also suggested KMeans performed well, and the PCA visualization showed some separation of these 3 clusters.\n",
        "\n",
        "## Key Characteristics and Interpretations of Hotel Clusters:\n",
        "\n",
        "- Cluster 0 (Cheap Hotels with Moderate Discounts and Average Availability): These hotels generally have lower original prices and median stars (around {cluster_0_stars:.2f}). They offer moderate discounts (around {cluster_0_discount:.2%}) and have average available rooms (median around {cluster_0_avail:.2f}).\n",
        "- Cluster 1 (Luxury Hotels with Lower Discounts and Average Availability): These hotels have higher original prices and median stars (around {cluster_1_stars:.2f}). They offer lower discounts (around {cluster_1_discount:.2%}) compared to other clusters and have average available rooms (median around {cluster_1_avail:.2f}).\n",
        "- Cluster 2 (Mid-Range Hotels with Moderate Discounts and High Availability): These hotels have mid-range original prices and median stars (around {cluster_2_stars:.2f}). They offer moderate discounts (around {cluster_2_discount:.2%}) and have significantly higher available rooms (median around {cluster_2_avail:.2f}) compared to the other clusters.\n",
        "\"\"\".format(\n",
        "    best_k=best_k,\n",
        "    cluster_0_stars=cluster_summary.loc[0, (\"median_stars\", \"mean\")],\n",
        "    cluster_0_discount=cluster_summary.loc[0, (\"avg_discount_pct\", \"mean\")],\n",
        "    cluster_0_avail=cluster_summary.loc[0, (\"avg_available_rooms\", \"mean\")],\n",
        "    cluster_1_stars=cluster_summary.loc[1, (\"median_stars\", \"mean\")],\n",
        "    cluster_1_discount=cluster_summary.loc[1, (\"avg_discount_pct\", \"mean\")],\n",
        "    cluster_1_avail=cluster_summary.loc[1, (\"avg_available_rooms\", \"mean\")],\n",
        "    cluster_2_stars=cluster_summary.loc[2, (\"median_stars\", \"mean\")],\n",
        "    cluster_2_discount=cluster_summary.loc[2, (\"avg_discount_pct\", \"mean\")],\n",
        "    cluster_2_avail=cluster_summary.loc[2, (\"avg_available_rooms\", \"mean\")],\n",
        "))"
      ]
    },
    {
      "cell_type": "code",
      "execution_count": 41,
      "metadata": {
        "colab": {
          "base_uri": "https://localhost:8080/"
        },
        "id": "8c07850f",
        "outputId": "b522e4e3-6c55-4f18-d49f-dc2aea3add2d"
      },
      "outputs": [
        {
          "name": "stdout",
          "output_type": "stream",
          "text": [
            "Dashboard served successfully. Look for the output below the cell or click the link if one appears.\n"
          ]
        }
      ],
      "source": [
        "# Create a dashboard\n",
        "dashboard = pn.Column(\n",
        "    \"# Hotel Discount and Clustering Analysis Dashboard\",\n",
        "    discount_effectiveness_pane,\n",
        "    clustering_summary_markdown,\n",
        ")\n",
        "\n",
        "# Serve the dashboard\n",
        "dashboard.servable()\n",
        "\n",
        "print(\"Dashboard served successfully. Look for the output below the cell or click the link if one appears.\")"
      ]
    },
    {
      "cell_type": "code",
      "execution_count": 42,
      "metadata": {},
      "outputs": [
        {
          "name": "stdout",
          "output_type": "stream",
          "text": [
            "Launching server at http://localhost:52608\n"
          ]
        },
        {
          "data": {
            "text/plain": [
              "<panel.io.server.Server at 0x2cb827bde80>"
            ]
          },
          "execution_count": 42,
          "metadata": {},
          "output_type": "execute_result"
        }
      ],
      "source": [
        "dashboard.show()"
      ]
    },
    {
      "cell_type": "code",
      "execution_count": 43,
      "metadata": {},
      "outputs": [
        {
          "name": "stdout",
          "output_type": "stream",
          "text": [
            "GMM cluster labels for first 10 hotels: [2 2 0 2 1 2 2 0 1 1]\n"
          ]
        }
      ],
      "source": [
        "from sklearn.mixture import GaussianMixture\n",
        "\n",
        "# Gaussian Mixture Model clustering\n",
        "gmm = GaussianMixture(n_components=3, random_state=42)\n",
        "gmm_labels = gmm.fit_predict(Xscaled)\n",
        "print(\"GMM cluster labels for first 10 hotels:\", gmm_labels[:10])\n"
      ]
    },
    {
      "cell_type": "code",
      "execution_count": 44,
      "metadata": {},
      "outputs": [
        {
          "name": "stdout",
          "output_type": "stream",
          "text": [
            "Discount Code Effectiveness Summary:\n"
          ]
        },
        {
          "data": {
            "text/html": [
              "<div>\n",
              "<style scoped>\n",
              "    .dataframe tbody tr th:only-of-type {\n",
              "        vertical-align: middle;\n",
              "    }\n",
              "\n",
              "    .dataframe tbody tr th {\n",
              "        vertical-align: top;\n",
              "    }\n",
              "\n",
              "    .dataframe thead th {\n",
              "        text-align: right;\n",
              "    }\n",
              "</style>\n",
              "<table border=\"1\" class=\"dataframe\">\n",
              "  <thead>\n",
              "    <tr style=\"text-align: right;\">\n",
              "      <th></th>\n",
              "      <th>Discount Code</th>\n",
              "      <th>n</th>\n",
              "      <th>median_discount_pct</th>\n",
              "      <th>median_lead_time</th>\n",
              "      <th>median_avail</th>\n",
              "      <th>median_z</th>\n",
              "    </tr>\n",
              "  </thead>\n",
              "  <tbody>\n",
              "    <tr>\n",
              "      <th>0</th>\n",
              "      <td>1</td>\n",
              "      <td>39271</td>\n",
              "      <td>0.075301</td>\n",
              "      <td>17.0</td>\n",
              "      <td>10.0</td>\n",
              "      <td>-0.445324</td>\n",
              "    </tr>\n",
              "    <tr>\n",
              "      <th>1</th>\n",
              "      <td>2</td>\n",
              "      <td>60301</td>\n",
              "      <td>0.069919</td>\n",
              "      <td>17.0</td>\n",
              "      <td>10.0</td>\n",
              "      <td>-0.400319</td>\n",
              "    </tr>\n",
              "    <tr>\n",
              "      <th>2</th>\n",
              "      <td>3</td>\n",
              "      <td>55720</td>\n",
              "      <td>0.070171</td>\n",
              "      <td>18.0</td>\n",
              "      <td>10.0</td>\n",
              "      <td>-0.418059</td>\n",
              "    </tr>\n",
              "    <tr>\n",
              "      <th>3</th>\n",
              "      <td>4</td>\n",
              "      <td>32556</td>\n",
              "      <td>0.067608</td>\n",
              "      <td>18.0</td>\n",
              "      <td>9.0</td>\n",
              "      <td>-0.491515</td>\n",
              "    </tr>\n",
              "  </tbody>\n",
              "</table>\n",
              "</div>"
            ],
            "text/plain": [
              "   Discount Code      n  median_discount_pct  median_lead_time  median_avail  \\\n",
              "0              1  39271             0.075301              17.0          10.0   \n",
              "1              2  60301             0.069919              17.0          10.0   \n",
              "2              3  55720             0.070171              18.0          10.0   \n",
              "3              4  32556             0.067608              18.0           9.0   \n",
              "\n",
              "   median_z  \n",
              "0 -0.445324  \n",
              "1 -0.400319  \n",
              "2 -0.418059  \n",
              "3 -0.491515  "
            ]
          },
          "metadata": {},
          "output_type": "display_data"
        },
        {
          "name": "stdout",
          "output_type": "stream",
          "text": [
            "\n",
            "Clustering Metrics Comparison:\n"
          ]
        },
        {
          "data": {
            "text/html": [
              "<div>\n",
              "<style scoped>\n",
              "    .dataframe tbody tr th:only-of-type {\n",
              "        vertical-align: middle;\n",
              "    }\n",
              "\n",
              "    .dataframe tbody tr th {\n",
              "        vertical-align: top;\n",
              "    }\n",
              "\n",
              "    .dataframe thead th {\n",
              "        text-align: right;\n",
              "    }\n",
              "</style>\n",
              "<table border=\"1\" class=\"dataframe\">\n",
              "  <thead>\n",
              "    <tr style=\"text-align: right;\">\n",
              "      <th></th>\n",
              "      <th>Algorithm</th>\n",
              "      <th>Calinski-Harabasz</th>\n",
              "      <th>Davies-Bouldin</th>\n",
              "    </tr>\n",
              "  </thead>\n",
              "  <tbody>\n",
              "    <tr>\n",
              "      <th>0</th>\n",
              "      <td>KMeans</td>\n",
              "      <td>233.597324</td>\n",
              "      <td>0.995452</td>\n",
              "    </tr>\n",
              "    <tr>\n",
              "      <th>1</th>\n",
              "      <td>DBSCAN</td>\n",
              "      <td>193.094394</td>\n",
              "      <td>1.235204</td>\n",
              "    </tr>\n",
              "    <tr>\n",
              "      <th>2</th>\n",
              "      <td>Agglomerative</td>\n",
              "      <td>195.670448</td>\n",
              "      <td>1.090837</td>\n",
              "    </tr>\n",
              "    <tr>\n",
              "      <th>3</th>\n",
              "      <td>Gaussian Mixture</td>\n",
              "      <td>76.333610</td>\n",
              "      <td>2.784018</td>\n",
              "    </tr>\n",
              "  </tbody>\n",
              "</table>\n",
              "</div>"
            ],
            "text/plain": [
              "          Algorithm  Calinski-Harabasz  Davies-Bouldin\n",
              "0            KMeans         233.597324        0.995452\n",
              "1            DBSCAN         193.094394        1.235204\n",
              "2     Agglomerative         195.670448        1.090837\n",
              "3  Gaussian Mixture          76.333610        2.784018"
            ]
          },
          "metadata": {},
          "output_type": "display_data"
        }
      ],
      "source": [
        "from sklearn.metrics import calinski_harabasz_score, davies_bouldin_score\n",
        "from IPython.display import display\n",
        "\n",
        "# GMM metrics\n",
        "gmm_ch_score = calinski_harabasz_score(Xscaled, gmm_labels)\n",
        "gmm_db_score = davies_bouldin_score(Xscaled, gmm_labels)\n",
        "\n",
        "\n",
        "print(\"Discount Code Effectiveness Summary:\")\n",
        "display(result)\n",
        "\n",
        "print(\"\\nClustering Metrics Comparison:\")\n",
        "metrics_df = pd.DataFrame({\n",
        "    \"Algorithm\": [\"KMeans\", \"DBSCAN\", \"Agglomerative\", \"Gaussian Mixture\"],\n",
        "    \"Calinski-Harabasz\": [kmeans_ch_score, dbscan_ch_score, agg_ch_score, gmm_ch_score],\n",
        "    \"Davies-Bouldin\": [kmeans_db_score, dbscan_db_score, agg_db_score, gmm_db_score]\n",
        "})\n",
        "display(metrics_df)\n"
      ]
    },
    {
      "cell_type": "code",
      "execution_count": 45,
      "metadata": {},
      "outputs": [
        {
          "name": "stdout",
          "output_type": "stream",
          "text": [
            "Clustering Algorithm Comparison:\n"
          ]
        },
        {
          "data": {
            "text/html": [
              "<div>\n",
              "<style scoped>\n",
              "    .dataframe tbody tr th:only-of-type {\n",
              "        vertical-align: middle;\n",
              "    }\n",
              "\n",
              "    .dataframe tbody tr th {\n",
              "        vertical-align: top;\n",
              "    }\n",
              "\n",
              "    .dataframe thead th {\n",
              "        text-align: right;\n",
              "    }\n",
              "</style>\n",
              "<table border=\"1\" class=\"dataframe\">\n",
              "  <thead>\n",
              "    <tr style=\"text-align: right;\">\n",
              "      <th></th>\n",
              "      <th>Algorithm</th>\n",
              "      <th>Calinski-Harabasz</th>\n",
              "      <th>Davies-Bouldin</th>\n",
              "    </tr>\n",
              "  </thead>\n",
              "  <tbody>\n",
              "    <tr>\n",
              "      <th>0</th>\n",
              "      <td>KMeans</td>\n",
              "      <td>233.597324</td>\n",
              "      <td>0.995452</td>\n",
              "    </tr>\n",
              "    <tr>\n",
              "      <th>1</th>\n",
              "      <td>DBSCAN</td>\n",
              "      <td>193.094394</td>\n",
              "      <td>1.235204</td>\n",
              "    </tr>\n",
              "    <tr>\n",
              "      <th>2</th>\n",
              "      <td>Agglomerative</td>\n",
              "      <td>195.670448</td>\n",
              "      <td>1.090837</td>\n",
              "    </tr>\n",
              "    <tr>\n",
              "      <th>3</th>\n",
              "      <td>Gaussian Mixture</td>\n",
              "      <td>76.333610</td>\n",
              "      <td>2.784018</td>\n",
              "    </tr>\n",
              "  </tbody>\n",
              "</table>\n",
              "</div>"
            ],
            "text/plain": [
              "          Algorithm  Calinski-Harabasz  Davies-Bouldin\n",
              "0            KMeans         233.597324        0.995452\n",
              "1            DBSCAN         193.094394        1.235204\n",
              "2     Agglomerative         195.670448        1.090837\n",
              "3  Gaussian Mixture          76.333610        2.784018"
            ]
          },
          "metadata": {},
          "output_type": "display_data"
        },
        {
          "name": "stdout",
          "output_type": "stream",
          "text": [
            "\n",
            "Based on the highest Calinski-Harabasz score and lowest Davies-Bouldin score, 'KMeans' is the best clustering algorithm for this dataset.\n"
          ]
        }
      ],
      "source": [
        "# Compare clustering algorithms based on evaluation metrics\n",
        "print(\"Clustering Algorithm Comparison:\")\n",
        "display(metrics_df)\n",
        "\n",
        "best_algorithm = metrics_df.loc[metrics_df[\"Calinski-Harabasz\"].idxmax(), \"Algorithm\"]\n",
        "print(f\"\\nBased on the highest Calinski-Harabasz score and lowest Davies-Bouldin score, '{best_algorithm}' is the best clustering algorithm for this dataset.\")"
      ]
    },
    {
      "cell_type": "code",
      "execution_count": null,
      "metadata": {
        "id": "utvCyX2xzkhb"
      },
      "outputs": [],
      "source": []
    }
  ],
  "metadata": {
    "accelerator": "GPU",
    "colab": {
      "gpuType": "T4",
      "provenance": []
    },
    "kernelspec": {
      "display_name": "Python 3",
      "name": "python3"
    },
    "language_info": {
      "codemirror_mode": {
        "name": "ipython",
        "version": 3
      },
      "file_extension": ".py",
      "mimetype": "text/x-python",
      "name": "python",
      "nbconvert_exporter": "python",
      "pygments_lexer": "ipython3",
      "version": "3.13.2"
    }
  },
  "nbformat": 4,
  "nbformat_minor": 0
}
